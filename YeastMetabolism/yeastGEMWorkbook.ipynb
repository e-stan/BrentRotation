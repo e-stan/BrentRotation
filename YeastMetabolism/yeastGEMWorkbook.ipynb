{
 "cells": [
  {
   "cell_type": "code",
   "execution_count": 18,
   "metadata": {},
   "outputs": [],
   "source": [
    "import cobra\n",
    "from copy import deepcopy\n",
    "import pickle\n",
    "\n",
    "# Load model\n",
    "\n",
    "def getModel():\n",
    "    model = cobra.io.read_sbml_model('yeastGEM.xml')\n",
    "\n",
    "    # Correct metabolite ids:\n",
    "    for met in model.metabolites:\n",
    "        met.id = met.id.replace('__91__', '_')\n",
    "        met.id = met.id.replace('__93__', '')\n",
    "\n",
    "    model.solver = 'gurobi'\n",
    "    return model\n",
    "\n"
   ]
  },
  {
   "cell_type": "code",
   "execution_count": 3,
   "metadata": {},
   "outputs": [
    {
     "name": "stdout",
     "output_type": "stream",
     "text": [
      "Academic license - for non-commercial use only\n"
     ]
    }
   ],
   "source": [
    "model = getModel()"
   ]
  },
  {
   "cell_type": "code",
   "execution_count": 2,
   "metadata": {},
   "outputs": [
    {
     "name": "stdout",
     "output_type": "stream",
     "text": [
      "3949\n",
      "1133\n",
      "2680\n"
     ]
    }
   ],
   "source": [
    "print(len(model.reactions))\n",
    "print(len(model.genes))\n",
    "print(len(model.metabolites))\n"
   ]
  },
  {
   "cell_type": "code",
   "execution_count": 3,
   "metadata": {},
   "outputs": [
    {
     "name": "stdout",
     "output_type": "stream",
     "text": [
      "set(['c', 'e', 'g', 'mm', 'm', 'vm', 'ce', 'n', 'p', 'lp', 'v', 'erm', 'gm', 'er'])\n"
     ]
    }
   ],
   "source": [
    "print(model.get_metabolite_compartments())"
   ]
  },
  {
   "cell_type": "code",
   "execution_count": 4,
   "metadata": {
    "scrolled": true
   },
   "outputs": [
    {
     "name": "stdout",
     "output_type": "stream",
     "text": [
      "2680\n",
      "3949\n"
     ]
    }
   ],
   "source": [
    "SMatrix = cobra.util.array.create_stoichiometric_matrix(model,\"dense\")\n",
    "print(len(SMatrix))\n",
    "print(len(SMatrix[0]))"
   ]
  },
  {
   "cell_type": "code",
   "execution_count": 8,
   "metadata": {},
   "outputs": [
    {
     "name": "stdout",
     "output_type": "stream",
     "text": [
      "[['s_0681_e --> ', 'r_1761'], ['s_0680_c <=> s_0681_e', 'r_1762']]\n",
      "[['s_0805_e + s_1466_e --> s_0554_e + s_0565_e', 'r_1024'], ['s_0003_e + s_0805_e --> s_0565_e', 'r_0370'], ['s_0565_e --> s_0563_c', 'r_1166'], ['s_0805_e + s_4131_e <=> s_0554_e + s_0565_e', 'r_4420'], ['s_0565_e <=> ', 'r_1714'], ['s_0805_e + s_4140_e --> s_0565_e + s_1106_e', 'r_4400']]\n",
      "[['s_0766_e + s_0796_e --> s_0765_c + s_0794_c', 'r_1171'], ['s_0765_c --> s_0766_e', 'r_1172'], ['s_0766_e --> ', 'r_1808']]\n",
      "[['s_0456_c <=> s_0458_e', 'r_1697'], ['s_0458_e + s_0805_e <=> s_0446_e + s_0796_e', 'r_1668'], ['s_0458_e --> ', 'r_1672']]\n",
      "[['s_0362_c <=> s_0364_e', 'r_1106'], ['s_0364_e --> ', 'r_1634']]\n"
     ]
    }
   ],
   "source": [
    "print([[x.reaction, x.id] for x in model.metabolites.get_by_id(\"s_0681_e\").reactions]) #ethanol\n",
    "print([[x.reaction, x.id] for x in model.metabolites.get_by_id(\"s_0565_e\").reactions]) #glucose\n",
    "print([[x.reaction, x.id] for x in model.metabolites.get_by_id(\"s_0766_e\").reactions]) #glycerol\n",
    "print([[x.reaction, x.id] for x in model.metabolites.get_by_id(\"s_0458_e\").reactions]) #CO2\n",
    "print([[x.reaction, x.id] for x in model.metabolites.get_by_id(\"s_0364_e\").reactions]) #Acetate\n",
    "\n",
    "reactionsToConstrain = [model.reactions.get_by_id('r_1761'), \n",
    "                       model.reactions.get_by_id('r_1714'),\n",
    "                       model.reactions.get_by_id('r_1808'),\n",
    "                       model.reactions.get_by_id('r_1672'),\n",
    "                       model.reactions.get_by_id('r_1634')]\n"
   ]
  },
  {
   "cell_type": "code",
   "execution_count": 9,
   "metadata": {},
   "outputs": [
    {
     "name": "stdout",
     "output_type": "stream",
     "text": [
      "IN FLUXES          OUT FLUXES      OBJECTIVES\n",
      "-----------------  --------------  --------------\n",
      "s_1277_e  2.23     s_0805_e  3.91  r_2111  0.0879\n",
      "s_0565_e  1        s_0458_e  2.41\n",
      "s_0796_e  0.789\n",
      "s_0420_e  0.557\n",
      "s_1324_e  0.0231\n",
      "s_1468_e  0.00754\n",
      "        minimum   maximum\n",
      "r_1761      0.0  2.000000\n",
      "r_1714     -1.0 -0.034104\n",
      "r_1808      0.0  1.582398\n",
      "r_1672      0.0  6.000000\n",
      "r_1634      0.0  2.499909\n"
     ]
    }
   ],
   "source": [
    "model.optimize()\n",
    "fvaResult = cobra.flux_analysis.variability.flux_variability_analysis(model,reactionsToConstrain,fraction_of_optimum = 0.0,loopless=True)\n",
    "model.summary()\n",
    "print(fvaResult)"
   ]
  },
  {
   "cell_type": "code",
   "execution_count": 10,
   "metadata": {},
   "outputs": [
    {
     "name": "stdout",
     "output_type": "stream",
     "text": [
      "{'r_2005': 1000.0, 'r_1714': 1.0, 'r_1992': 1000.0, 'r_2060': 1000.0, 'r_1654': 1000.0, 'r_1832': 1000.0, 'r_1861': 1000.0, 'r_2100': 1000.0}\n",
      "IN FLUXES        OUT FLUXES        OBJECTIVES\n",
      "---------------  ----------------  ----------------\n",
      "s_0565_e  0.621  s_0805_e  0.563   r_2111  6.79e-12\n",
      "s_1277_e  0.258  s_0458_e  0.378\n",
      "s_0420_e  0.202  s_0681_e  0.374\n",
      "                 s_0723_e  0.241\n",
      "                 s_1272_e  0.167\n",
      "                 s_4167_e  0.132\n",
      "                 s_0796_e  0.105\n",
      "                 s_1521_e  0.0542\n",
      "                 s_0966_e  0.0504\n",
      "                 s_0170_e  0.0504\n",
      "                 s_0766_e  0.0308\n",
      "        minimum   maximum\n",
      "r_1761   0.3060  0.374000\n",
      "r_1714  -0.7590 -0.621000\n",
      "r_1808   0.0252  0.030800\n",
      "r_1672   0.3780  0.378000\n",
      "r_1634   0.0000  1.097583\n"
     ]
    }
   ],
   "source": [
    "constrianedModel = getModel()\n",
    "\n",
    "mediaMetabolites = [\"s_0565_e\", \"s_0420_e\", \"s_1007_e\",\"s_1030_e\", \"s_1551_e\", \"s_1022_e\", \n",
    "                    \"s_1277_e\", \"s_0452_e\", \"s_1154_e\", \"s_1406_e\", \"s_1374_e\", \"s_1438_e\"]\n",
    "\n",
    "mediaReactions = ['r_1714','r_1654','r_1893','r_1902','r_2090','r_1899','r_1992','r_1671',\n",
    "                 'r_1947','r_2038','r_2020','r_2049']\n",
    "\n",
    "maximumFluxes = [0.6993938587,6.8773538562,0.0541395486,0.0562964949,0.0749464668,\n",
    "                 0.1921170999,5250,6.87650935287135E-05,9.32504440497336E-05,\n",
    "                 4.46381124455309E-05,0.0002148887,0.1437371663]\n",
    "\n",
    "\n",
    "newMedia = {reaction:flux for reaction,flux in zip(mediaReactions,maximumFluxes)}\n",
    "\n",
    "constrianedModel.medium = newMedia\n",
    "\n",
    "reactionsToConstrain = [constrianedModel.reactions.get_by_id('r_1761'), #ethanol\n",
    "                       constrianedModel.reactions.get_by_id('r_1714'), #glucose\n",
    "                       constrianedModel.reactions.get_by_id('r_1808'), #glyerol\n",
    "                       constrianedModel.reactions.get_by_id('r_1672'), #CO2\n",
    "                       constrianedModel.reactions.get_by_id('r_1634')] #acetate\n",
    "outputGlycerol = .028 \n",
    "outputEthanol = .34\n",
    "inputGlucose = -1*.69\n",
    "outputCO2 = .42\n",
    "\n",
    "constrianedModel.reactions.get_by_id('r_1761').lower_bound = outputEthanol*.9\n",
    "constrianedModel.reactions.get_by_id('r_1761').upper_bound = outputEthanol*1.1\n",
    "\n",
    "constrianedModel.reactions.get_by_id('r_1808').lower_bound = outputGlycerol*.9\n",
    "constrianedModel.reactions.get_by_id('r_1808').upper_bound = outputGlycerol*1.1\n",
    "\n",
    "constrianedModel.reactions.get_by_id('r_1714').lower_bound = inputGlucose*1.1\n",
    "constrianedModel.reactions.get_by_id('r_1714').upper_bound = inputGlucose*.9\n",
    "\n",
    "constrianedModel.reactions.get_by_id('r_1672').lower_bound = outputCO2*1.1\n",
    "constrianedModel.reactions.get_by_id('r_1672').upper_bound = outputCO2*.9\n",
    "\n",
    "# for metabolite in mediaMetabolites:\n",
    "#     print([[x.id,x.reaction] for x in constrianedModel.metabolites.get_by_id(metabolite).reactions])\n",
    "\n",
    "constrianedModel.optimize()\n",
    "fvaResult = cobra.flux_analysis.variability.flux_variability_analysis(constrianedModel,reactionsToConstrain,\n",
    "                                                            fraction_of_optimum=0.0,loopless = True)\n",
    "\n",
    "constrianedModel.summary()\n",
    "print(fvaResult)"
   ]
  },
  {
   "cell_type": "code",
   "execution_count": 22,
   "metadata": {},
   "outputs": [],
   "source": [
    "fullFVASol = cobra.flux_analysis.variability.flux_variability_analysis(constrianedModel,constrianedModel.reactions[:500],\n",
    "                                                            fraction_of_optimum=0.0,loopless = True)\n",
    "pickle.dump(fullFVASol,open(\"FVAYeastGEMConstrained.pkl\",\"wb\"))\n"
   ]
  },
  {
   "cell_type": "code",
   "execution_count": 20,
   "metadata": {},
   "outputs": [],
   "source": [
    "fullFVASol = pickle.load(open(\"FVAYeastGEMConstrained.pkl\",\"rb\"))"
   ]
  },
  {
   "cell_type": "code",
   "execution_count": 23,
   "metadata": {},
   "outputs": [
    {
     "name": "stdout",
     "output_type": "stream",
     "text": [
      "<class 'pandas.core.frame.DataFrame'>\n",
      "{'r_0170': 0.0, 'r_0177': 0.0, 'r_0176': 0.0, 'r_0478': 0.0, 'r_0479': 0.0, 'r_0477': 0.0, 'r_0178': 0.0, 'r_0358': 0.0, 'r_0473': 0.0, 'r_0471': 0.0, 'r_0078': 0.0, 'r_0370': 0.0, 'r_0373': 0.0, 'r_0070': 0.0, 'r_0076': 0.0, 'r_0077': 0.0, 'r_0282': 0.0, 'r_0631': 0.0, 'r_0455': 0.0, 'r_0500': 0.0, 'r_0028': 0.0, 'r_0085': 0.0, 'r_0084': 0.0, 'r_0083': 0.0, 'r_0081': 0.0, 'r_0249': 0.0, 'r_0402': 0.0, 'r_0400': 0.0, 'r_0632': 0.0, 'r_0507': 0.0, 'r_0630': 0.0, 'r_0618': 0.0, 'r_0475': 0.0, 'r_0469': 0.0, 'r_0468': 0.0, 'r_0188': 0.0, 'r_0189': 0.0, 'r_0465': 0.0, 'r_0187': 0.0, 'r_0184': 0.0, 'r_0185': 0.0, 'r_0461': 0.0, 'r_0183': 0.0, 'r_0180': 0.0, 'r_0181': 0.0, 'r_0069': 0.0, 'r_0068': 0.0, 'r_0342': 0.0, 'r_0343': 0.0, 'r_0345': 0.0, 'r_0100': 0.0, 'r_0101': 0.0, 'r_0348': 0.0, 'r_0346': 0.0, 'r_0508': 0.0, 'r_0108': 0.0, 'r_0109': 0.0, 'r_0509': 0.0, 'r_0621': 0.0, 'r_0597': 0.0, 'r_0364': 0.0, 'r_0549': 0.0, 'r_0574': 0.0, 'r_0573': 0.0, 'r_0572': 0.0, 'r_0571': 0.0, 'r_0274': 0.0, 'r_0347': 0.0, 'r_0270': 0.0, 'r_0271': 0.0, 'r_0272': 0.0, 'r_0273': 0.0, 'r_0458': 0.0, 'r_0459': 0.0, 'r_0057': 0.0, 'r_0199': 0.0, 'r_0198': 0.0, 'r_0218': 0.0, 'r_0482': 0.0, 'r_0601': 0.0, 'r_0451': 0.0, 'r_0556': 0.0, 'r_0602': 0.0, 'r_0058': 0.0, 'r_0059': 0.0, 'r_0193': 0.0, 'r_0192': 0.0, 'r_0115': 0.0, 'r_0114': 0.0, 'r_0117': 0.0, 'r_0116': 0.0, 'r_0111': 0.0, 'r_0293': 0.0, 'r_0113': 0.0, 'r_0291': 0.0, 'r_0357': 0.0, 'r_0356': 0.0, 'r_0551': 0.0, 'r_0354': 0.0, 'r_0119': 0.0, 'r_0118': 0.0, 'r_0298': 0.0, 'r_0299': 0.0, 'r_0620': 0.0, 'r_0623': 0.0, 'r_0629': 0.0, 'r_0332': 0.0, 'r_0522': 0.0, 'r_0528': 0.0, 'r_0335': 0.0, 'r_0484': 0.0, 'r_0575': 0.0, 'r_0547': 0.0, 'r_0334': 0.0, 'r_0269': 0.0, 'r_0268': 0.0, 'r_0506': 0.0, 'r_0131': 0.0, 'r_0504': 0.0, 'r_0505': 0.0, 'r_0263': 0.0, 'r_0262': 0.0, 'r_0261': 0.0, 'r_0260': 0.0, 'r_0267': 0.0, 'r_0266': 0.0, 'r_0265': 0.0, 'r_0264': 0.0, 'r_0043': 0.0, 'r_0041': 0.0, 'r_0209': 0.0, 'r_0529': 0.0, 'r_0045': 0.0, 'r_0044': 0.0, 'r_0205': 0.0, 'r_0204': 0.0, 'r_0599': 0.0, 'r_0615': 0.0, 'r_0201': 0.0, 'r_0200': 0.0, 'r_0532': 0.0, 'r_0120': 0.0, 'r_0121': 0.0, 'r_0122': 0.0, 'r_0286': 0.0, 'r_0124': 0.0, 'r_0280': 0.0, 'r_0126': 0.0, 'r_0127': 0.0, 'r_0128': 0.0, 'r_0129': 0.0, 'r_0320': 0.0, 'r_0321': 0.0, 'r_0289': 0.0, 'r_0288': 0.0, 'r_0351': 0.0, 'r_0285': 0.0, 'r_0530': 0.0, 'r_0625': 0.0, 'r_0284': 0.0, 'r_0598': 0.0, 'r_0287': 0.0, 'r_0329': 0.0, 'r_0557': 0.0, 'r_0514': 0.0, 'r_0512': 0.0, 'r_0519': 0.0, 'r_0281': 0.0, 'r_0609': 0.0, 'r_0283': 0.0, 'r_0608': 0.0, 'r_0230': 0.0, 'r_0233': 0.0, 'r_0627': 0.0, 'r_0036': 0.0, 'r_0037': 0.0, 'r_0034': 0.0, 'r_0035': 0.0, 'r_0033': 0.0, 'r_0030': 0.0, 'r_0138': 0.0, 'r_0137': 0.0, 'r_0330': 0.0, 'r_0135': 0.0, 'r_0134': 0.0, 'r_0133': 0.0, 'r_0132': 0.0, 'r_0038': 0.0, 'r_0130': 0.0, 'r_0600': 0.0, 'r_0492': 0.0, 'r_0543': 0.0, 'r_0635': 0.0, 'r_0326': 0.0, 'r_0327': 0.0, 'r_0634': 0.0, 'r_0555': 0.0, 'r_0445': 0.0, 'r_0242': 0.0, 'r_0443': 0.0, 'r_0442': 0.0, 'r_0323': 0.0, 'r_0440': 0.0, 'r_0524': 0.0, 'r_0525': 0.0, 'r_0526': 0.0, 'r_0527': 0.0, 'r_0520': 0.0, 'r_0521': 0.0, 'r_0449': 0.0, 'r_0448': 0.0, 'r_0304': 0.0, 'r_0306': 0.0, 'r_0307': 0.0, 'r_0540': 0.0, 'r_0301': 0.0, 'r_0302': 0.0, 'r_0303': 0.0, 'r_0191': 0.0, 'r_0544': 0.0, 'r_0633': 0.0, 'r_0308': 0.0, 'r_0309': 0.0, 'r_0331': 0.0, 'r_0190': 0.0, 'r_0628': 0.0, 'r_0603': 0.0, 'r_0605': 0.0, 'r_0149': 0.0, 'r_0021': 0.0, 'r_0210': 0.0, 'r_0022': 0.0, 'r_0142': 0.0, 'r_0143': 0.0, 'r_0140': 0.0, 'r_0211': 0.0, 'r_0146': 0.0, 'r_0147': 0.0, 'r_0144': 0.0, 'r_0296': 0.0, 'r_0454': 0.0, 'r_0441': 0.0, 'r_0613': 0.0, 'r_0297': 0.0, 'r_0294': 0.0, 'r_0604': 0.0, 'r_0622': 0.0, 'r_0539': 0.0, 'r_0295': 0.0, 'r_0436': 0.0, 'r_0437': 0.0, 'r_0464': 0.0, 'r_0624': 0.0, 'r_0533': 0.0, 'r_0292': 0.0, 'r_0531': 0.0, 'r_0523': 0.0, 'r_0535': 0.0, 'r_0534': 0.0, 'r_0313': 0.0, 'r_0099': 0.0, 'r_0311': 0.0, 'r_0310': 0.0, 'r_0490': 0.0, 'r_0290': 0.0, 'r_0315': 0.0, 'r_0314': 0.0, 'r_0090': 0.0, 'r_0554': 0.0, 'r_0319': 0.0, 'r_0318': 0.0, 'r_0094': 0.0, 'r_0095': 0.0, 'r_0607': 0.0, 'r_0552': 0.0, 'r_0159': 0.0, 'r_0012': 0.0, 'r_0619': 0.0, 'r_0014': 0.0, 'r_0015': 0.0, 'r_0017': 0.0, 'r_0150': 0.0, 'r_0153': 0.0, 'r_0152': 0.0, 'r_0155': 0.0, 'r_0157': 0.0, 'r_0616': 0.0, 'r_0611': 0.0, 'r_0457': 0.0, 'r_0617': 0.0, 'r_0480': 0.0, 'r_0518': 0.0, 'r_0606': 0.0, 'r_0487': 0.0, 'r_0612': 0.0, 'r_0224': 0.0, 'r_0223': 0.0, 'r_0222': 0.0, 'r_0221': 0.0, 'r_0220': 0.0, 'r_0350': 0.0, 'r_0322': 0.0, 'r_0610': 0.0, 'r_0229': 0.0, 'r_0228': 0.0, 'r_0164': 0.0, 'r_0165': 0.0, 'r_0167': 0.0, 'r_0160': 0.0, 'r_0161': 0.0, 'r_0485': 0.0, 'r_0163': 0.0, 'r_0561': 0.0, 'r_0562': 0.0, 'r_0488': 0.0, 'r_0626': 0.0, 'r_0541': 0.0, 'r_0460': 0.0, 'r_0212': 0.0, 'r_0365': 0.0, 'r_0362': 0.0, 'r_0363': 0.0, 'r_0360': 0.0, 'r_0361': 0.0, 'r_0006': 0.0, 'r_0005': 0.0, 'r_0004': 0.0, 'r_0328': 0.0, 'r_0002': 0.0, 'r_0368': 0.0, 'r_0369': 0.0, 'r_0340': 0.0, 'r_0341': 0.0, 'r_0596': 0.0, 'r_0359': 0.0, 'r_0213': 0.0, 'r_0497': 0.0, 'r_0255': 0.0, 'r_0259': 0.0, 'r_0614': 0.0, 'r_0412': 0.0}\n"
     ]
    }
   ],
   "source": [
    "\n",
    "print type(fullFVASol)\n",
    "\n",
    "constrainedReactions = {reaction:sum([maxi/2,mini/2]) for reaction,maxi,mini in \n",
    "            zip(fullFVASol.index.values,fullFVASol.maximum.values,fullFVASol.minimum.values)\n",
    "            if maxi-mini < .01}\n",
    "\n",
    "print constrainedReactions\n"
   ]
  },
  {
   "cell_type": "code",
   "execution_count": null,
   "metadata": {},
   "outputs": [
    {
     "name": "stderr",
     "output_type": "stream",
     "text": [
      "cobra/util/solver.py:408 \u001b[1;31mUserWarning\u001b[0m: solver status is 'infeasible'\n"
     ]
    }
   ],
   "source": [
    "constrainedGeometricFBASol = cobra.flux_analysis.geometric_fba(constrianedModel)\n",
    "geometricFBASol = cobra.flux_analysis.geometric_fba(model)"
   ]
  },
  {
   "cell_type": "markdown",
   "metadata": {},
   "source": []
  }
 ],
 "metadata": {
  "kernelspec": {
   "display_name": "Python 2",
   "language": "python",
   "name": "python2"
  },
  "language_info": {
   "codemirror_mode": {
    "name": "ipython",
    "version": 2
   },
   "file_extension": ".py",
   "mimetype": "text/x-python",
   "name": "python",
   "nbconvert_exporter": "python",
   "pygments_lexer": "ipython2",
   "version": "2.7.12"
  }
 },
 "nbformat": 4,
 "nbformat_minor": 2
}
