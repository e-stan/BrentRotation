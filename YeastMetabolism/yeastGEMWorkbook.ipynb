{
 "cells": [
  {
   "cell_type": "code",
   "execution_count": 1,
   "metadata": {},
   "outputs": [
    {
     "name": "stdout",
     "output_type": "stream",
     "text": [
      "Academic license - for non-commercial use only\n"
     ]
    }
   ],
   "source": [
    "import cobra\n",
    "from copy import deepcopy\n",
    "\n",
    "# Load model\n",
    "model = cobra.io.read_sbml_model('yeastGEM.xml')\n",
    "\n",
    "# Correct metabolite ids:\n",
    "for met in model.metabolites:\n",
    "    met.id = met.id.replace('__91__', '_')\n",
    "    met.id = met.id.replace('__93__', '')\n",
    "\n",
    "model.solver = 'gurobi'\n"
   ]
  },
  {
   "cell_type": "code",
   "execution_count": 2,
   "metadata": {},
   "outputs": [
    {
     "name": "stdout",
     "output_type": "stream",
     "text": [
      "3949\n",
      "1133\n",
      "2680\n"
     ]
    }
   ],
   "source": [
    "print(len(model.reactions))\n",
    "print(len(model.genes))\n",
    "print(len(model.metabolites))\n"
   ]
  },
  {
   "cell_type": "code",
   "execution_count": 3,
   "metadata": {},
   "outputs": [
    {
     "name": "stdout",
     "output_type": "stream",
     "text": [
      "set(['c', 'e', 'g', 'mm', 'm', 'vm', 'ce', 'n', 'p', 'lp', 'v', 'erm', 'gm', 'er'])\n"
     ]
    }
   ],
   "source": [
    "print(model.get_metabolite_compartments())"
   ]
  },
  {
   "cell_type": "code",
   "execution_count": 4,
   "metadata": {
    "scrolled": true
   },
   "outputs": [
    {
     "name": "stdout",
     "output_type": "stream",
     "text": [
      "2680\n",
      "3949\n"
     ]
    }
   ],
   "source": [
    "SMatrix = cobra.util.array.create_stoichiometric_matrix(model,\"dense\")\n",
    "print(len(SMatrix))\n",
    "print(len(SMatrix[0]))"
   ]
  },
  {
   "cell_type": "code",
   "execution_count": 10,
   "metadata": {},
   "outputs": [
    {
     "name": "stdout",
     "output_type": "stream",
     "text": [
      "[['s_0668_e <=> s_0666_c', 'r_1147'], ['s_0668_e --> ', 'r_1757']]\n",
      "[['s_0003_e + s_0805_e --> s_0565_e', 'r_0370'], ['s_0805_e + s_4131_e <=> s_0554_e + s_0565_e', 'r_4420'], ['s_0805_e + s_1466_e --> s_0554_e + s_0565_e', 'r_1024'], ['s_0805_e + s_4140_e --> s_0565_e + s_1106_e', 'r_4400'], ['s_0565_e <=> ', 'r_1714'], ['s_0565_e --> s_0563_c', 'r_1166']]\n",
      "[['s_0765_c --> s_0766_e', 'r_1172'], ['s_0766_e + s_0796_e --> s_0765_c + s_0794_c', 'r_1171'], ['s_0766_e --> ', 'r_1808']]\n"
     ]
    }
   ],
   "source": [
    "print([[x.reaction, x.id] for x in model.metabolites.get_by_id(\"s_0668_e\").reactions]) #ethanol\n",
    "print([[x.reaction, x.id] for x in model.metabolites.get_by_id(\"s_0565_e\").reactions]) #glucose\n",
    "print([[x.reaction, x.id] for x in model.metabolites.get_by_id(\"s_0766_e\").reactions]) #glycerol\n",
    "reactionsToConstrain = [list(model.metabolites.get_by_id(\"s_0668_e\").reactions)[1],\n",
    "                       list(model.metabolites.get_by_id(\"s_0565_e\").reactions)[-1],\n",
    "                       list(model.metabolites.get_by_id(\"s_0766_e\").reactions)[-1]]\n"
   ]
  },
  {
   "cell_type": "code",
   "execution_count": 7,
   "metadata": {},
   "outputs": [
    {
     "name": "stdout",
     "output_type": "stream",
     "text": [
      "IN FLUXES          OUT FLUXES      OBJECTIVES\n",
      "-----------------  --------------  --------------\n",
      "s_1277_e  2.23     s_0805_e  3.91  r_2111  0.0879\n",
      "s_0565_e  1        s_0458_e  2.41\n",
      "s_0796_e  0.789\n",
      "s_0420_e  0.557\n",
      "s_1324_e  0.0231\n",
      "s_1468_e  0.00754\n",
      "         minimum   maximum\n",
      "r_1757  0.000000  0.099970\n",
      "r_1634  0.000000  2.499909\n",
      "r_1166  0.034104  1.000000\n",
      "r_1546  0.000000  1.760270\n"
     ]
    }
   ],
   "source": [
    "model.optimize()\n",
    "fvaResult = cobra.flux_analysis.variability.flux_variability_analysis(model,reactionsToConstrain,fraction_of_optimum = 0.0)\n",
    "model.summary()\n",
    "print(fvaResult)"
   ]
  },
  {
   "cell_type": "code",
   "execution_count": 8,
   "metadata": {},
   "outputs": [
    {
     "name": "stdout",
     "output_type": "stream",
     "text": [
      "         minimum   maximum\n",
      "r_1757  0.017532  0.050000\n",
      "r_1634  0.000000  2.092463\n",
      "r_1166  0.196606  1.000000\n",
      "r_1546  0.000000  1.466968\n",
      "IN FLUXES          OUT FLUXES        OBJECTIVES\n",
      "-----------------  ----------------  --------------\n",
      "s_1277_e  2.19     s_0805_e  3.87    r_2111  0.0731\n",
      "s_0565_e  1        s_0458_e  2.52\n",
      "s_0796_e  0.825    s_0668_e  0.0175\n",
      "s_0420_e  0.463\n",
      "s_1324_e  0.0193\n",
      "s_1468_e  0.00628\n"
     ]
    }
   ],
   "source": [
    "#for \n",
    "\n",
    "constrianedModel = cobra.core.model.Model(model)\n",
    "\n",
    "#inputGlucose = .5\n",
    "outputEthanol = .05\n",
    "# outputAcetate = 0.0\n",
    "# outputLactate = .66\n",
    "# constraints = [outputEthanol,outputAcetate,inputGlucose,outputLactate]\n",
    "# for reaction,constraint in zip(reactionsToConstrain[0:len(constraints)],constraints):\n",
    "#     constrianedModel.reactions.get_by_id(reaction.id).lower_bound = constraint\n",
    "#     constrianedModel.reactions.get_by_id(reaction.id).upper_bound = constraint\n",
    "\n",
    "constrianedModel.reactions.get_by_id('r_1757').lower_bound = outputEthanol*(27.0/77.0)\n",
    "constrianedModel.reactions.get_by_id('r_1757').upper_bound = outputEthanol\n",
    "\n",
    "constrianedModel.reactions.get_by_id('r_1808').lower_bound = outputEthanol*(27.0/77.0)\n",
    "constrianedModel.reactions.get_by_id('r_1808').upper_bound = outputEthanol\n",
    "\n",
    "\n",
    "fvaResult = cobra.flux_analysis.variability.flux_variability_analysis(constrianedModel,reactionsToConstrain,\n",
    "                                                            fraction_of_optimum=0.0)\n",
    "print(fvaResult)\n",
    "constrianedModel.optimize()\n",
    "constrianedModel.summary()\n"
   ]
  },
  {
   "cell_type": "code",
   "execution_count": null,
   "metadata": {},
   "outputs": [],
   "source": [
    "\n",
    "geometric_fba_sol = cobra.flux_analysis.geometric_fba(model)"
   ]
  },
  {
   "cell_type": "markdown",
   "metadata": {},
   "source": []
  }
 ],
 "metadata": {
  "kernelspec": {
   "display_name": "Python 2",
   "language": "python",
   "name": "python2"
  },
  "language_info": {
   "codemirror_mode": {
    "name": "ipython",
    "version": 2
   },
   "file_extension": ".py",
   "mimetype": "text/x-python",
   "name": "python",
   "nbconvert_exporter": "python",
   "pygments_lexer": "ipython2",
   "version": "2.7.12"
  }
 },
 "nbformat": 4,
 "nbformat_minor": 2
}
