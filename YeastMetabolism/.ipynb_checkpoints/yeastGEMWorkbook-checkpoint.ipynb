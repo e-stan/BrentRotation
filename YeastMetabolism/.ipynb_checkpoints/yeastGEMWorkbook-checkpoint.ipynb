{
 "cells": [
  {
   "cell_type": "code",
   "execution_count": 1,
   "metadata": {},
   "outputs": [],
   "source": [
    "import cobra\n",
    "from copy import deepcopy\n",
    "import pickle\n",
    "\n",
    "# Load model\n",
    "\n",
    "def getModel():\n",
    "    model = cobra.io.read_sbml_model('yeastGEM.xml')\n",
    "\n",
    "    # Correct metabolite ids:\n",
    "    for met in model.metabolites:\n",
    "        met.id = met.id.replace('__91__', '_')\n",
    "        met.id = met.id.replace('__93__', '')\n",
    "\n",
    "    model.solver = 'gurobi'\n",
    "    return model\n",
    "\n"
   ]
  },
  {
   "cell_type": "code",
   "execution_count": 2,
   "metadata": {},
   "outputs": [
    {
     "name": "stdout",
     "output_type": "stream",
     "text": [
      "Academic license - for non-commercial use only\n"
     ]
    }
   ],
   "source": [
    "model = getModel()"
   ]
  },
  {
   "cell_type": "code",
   "execution_count": 3,
   "metadata": {},
   "outputs": [
    {
     "name": "stdout",
     "output_type": "stream",
     "text": [
      "3949\n",
      "1133\n",
      "2680\n"
     ]
    }
   ],
   "source": [
    "print(len(model.reactions))\n",
    "print(len(model.genes))\n",
    "print(len(model.metabolites))\n"
   ]
  },
  {
   "cell_type": "code",
   "execution_count": 3,
   "metadata": {},
   "outputs": [
    {
     "name": "stdout",
     "output_type": "stream",
     "text": [
      "set(['c', 'e', 'g', 'mm', 'm', 'vm', 'ce', 'n', 'p', 'lp', 'v', 'erm', 'gm', 'er'])\n"
     ]
    }
   ],
   "source": [
    "print(model.get_metabolite_compartments())"
   ]
  },
  {
   "cell_type": "code",
   "execution_count": 4,
   "metadata": {
    "scrolled": true
   },
   "outputs": [
    {
     "name": "stdout",
     "output_type": "stream",
     "text": [
      "2680\n",
      "3949\n"
     ]
    }
   ],
   "source": [
    "SMatrix = cobra.util.array.create_stoichiometric_matrix(model,\"dense\")\n",
    "print(len(SMatrix))\n",
    "print(len(SMatrix[0]))"
   ]
  },
  {
   "cell_type": "code",
   "execution_count": 4,
   "metadata": {},
   "outputs": [
    {
     "name": "stdout",
     "output_type": "stream",
     "text": [
      "[['s_0680_c <=> s_0681_e', 'r_1762'], ['s_0681_e --> ', 'r_1761']]\n",
      "[['s_0565_e <=> ', 'r_1714'], ['s_0805_e + s_4140_e --> s_0565_e + s_1106_e', 'r_4400'], ['s_0805_e + s_1466_e --> s_0554_e + s_0565_e', 'r_1024'], ['s_0003_e + s_0805_e --> s_0565_e', 'r_0370'], ['s_0805_e + s_4131_e <=> s_0554_e + s_0565_e', 'r_4420'], ['s_0565_e --> s_0563_c', 'r_1166']]\n",
      "[['s_0765_c --> s_0766_e', 'r_1172'], ['s_0766_e + s_0796_e --> s_0765_c + s_0794_c', 'r_1171'], ['s_0766_e --> ', 'r_1808']]\n",
      "[['s_0458_e + s_0805_e <=> s_0446_e + s_0796_e', 'r_1668'], ['s_0458_e --> ', 'r_1672'], ['s_0456_c <=> s_0458_e', 'r_1697']]\n",
      "[['s_0364_e --> ', 'r_1634'], ['s_0362_c <=> s_0364_e', 'r_1106']]\n"
     ]
    }
   ],
   "source": [
    "print([[x.reaction, x.id] for x in model.metabolites.get_by_id(\"s_0681_e\").reactions]) #ethanol\n",
    "print([[x.reaction, x.id] for x in model.metabolites.get_by_id(\"s_0565_e\").reactions]) #glucose\n",
    "print([[x.reaction, x.id] for x in model.metabolites.get_by_id(\"s_0766_e\").reactions]) #glycerol\n",
    "print([[x.reaction, x.id] for x in model.metabolites.get_by_id(\"s_0458_e\").reactions]) #CO2\n",
    "print([[x.reaction, x.id] for x in model.metabolites.get_by_id(\"s_0364_e\").reactions]) #Acetate\n",
    "\n",
    "reactionsToConstrain = [model.reactions.get_by_id('r_1761'), \n",
    "                       model.reactions.get_by_id('r_1714'),\n",
    "                       model.reactions.get_by_id('r_1808'),\n",
    "                       model.reactions.get_by_id('r_1672'),\n",
    "                       model.reactions.get_by_id('r_1634')]\n"
   ]
  },
  {
   "cell_type": "code",
   "execution_count": 5,
   "metadata": {},
   "outputs": [
    {
     "name": "stdout",
     "output_type": "stream",
     "text": [
      "IN FLUXES          OUT FLUXES      OBJECTIVES\n",
      "-----------------  --------------  --------------\n",
      "s_1277_e  2.23     s_0805_e  3.91  r_2111  0.0879\n",
      "s_0565_e  1        s_0458_e  2.41\n",
      "s_0796_e  0.789\n",
      "s_0420_e  0.557\n",
      "s_1324_e  0.0231\n",
      "s_1468_e  0.00754\n",
      "        minimum   maximum\n",
      "r_1761      0.0  2.000000\n",
      "r_1714     -1.0 -0.034104\n",
      "r_1808      0.0  1.582398\n",
      "r_1672      0.0  6.000000\n",
      "r_1634      0.0  2.499909\n"
     ]
    }
   ],
   "source": [
    "model.optimize()\n",
    "fvaResult = cobra.flux_analysis.variability.flux_variability_analysis(model,reactionsToConstrain,fraction_of_optimum = 0.0,loopless=True)\n",
    "model.summary()\n",
    "print(fvaResult)"
   ]
  },
  {
   "cell_type": "code",
   "execution_count": 9,
   "metadata": {},
   "outputs": [
    {
     "name": "stdout",
     "output_type": "stream",
     "text": [
      "r_1654    0.506502\n",
      "r_1714    1.000000\n",
      "r_1992    2.571357\n",
      "r_2005    0.021063\n",
      "r_2060    0.006866\n",
      "dtype: float64\n",
      "['s_0420_e <=> ', 's_0565_e <=> ', 's_1277_e <=> ', 's_1324_e <=> ', 's_1468_e <=> ']\n"
     ]
    }
   ],
   "source": [
    "minimalMediaReactions = cobra.medium.minimal_medium(model,.08,minimize_components=True)\n",
    "print(minimalMediaReactions)\n",
    "print([model.reactions.get_by_id(reaction).reaction for reaction in minimalMediaReactions.index.values])"
   ]
  },
  {
   "cell_type": "code",
   "execution_count": 14,
   "metadata": {},
   "outputs": [
    {
     "name": "stdout",
     "output_type": "stream",
     "text": [
      "IN FLUXES           OUT FLUXES          OBJECTIVES\n",
      "------------------  ------------------  ---------------\n",
      "s_1277_e  0.235     s_0805_e  0.256     r_2111  0.00138\n",
      "s_0565_e  0.0528    s_0458_e  0.248\n",
      "s_0420_e  0.0046    s_0681_e  0.0103\n",
      "s_1022_e  0.00317   s_0235_e  0.0027\n",
      "s_1030_e  0.000669  s_4176_e  0.000284\n",
      "s_1324_e  0.000363  s_1470_e  0.000267\n",
      "s_1551_e  0.000148  s_0513_e  3.61e-05\n",
      "s_1007_e  0.000105\n",
      "s_1154_e  5.86e-06\n",
      "s_1406_e  1.37e-06\n",
      "         minimum   maximum\n",
      "r_1761  0.010346  0.010555\n",
      "r_1714 -0.052771 -0.038773\n",
      "r_1808  0.000000  0.000000\n",
      "r_1672  0.145852  0.308016\n",
      "r_1634  0.000000  0.046044\n"
     ]
    }
   ],
   "source": [
    "constrianedModel = getModel()\n",
    "\n",
    "mediaMetabolites = [\"s_0565_e\", \"s_0420_e\", \"s_1007_e\",\"s_1030_e\", \"s_1551_e\", \"s_1022_e\", \n",
    "                    \"s_1277_e\", \"s_0452_e\", \"s_1154_e\", \"s_1406_e\", \"s_1374_e\", \"s_1438_e\"\n",
    "                    ,\"s_1468_e\",\"s_1324_e\"]\n",
    "\n",
    "mediaReactions = ['r_1714','r_1654','r_1893','r_1902','r_2090','r_1899','r_1992','r_1671',\n",
    "                 'r_1947','r_2038','r_2020','r_2049',\"r_2060\",\"r_2005\"]\n",
    "\n",
    "\n",
    "mediaMolarity = [0.0083261174,0.0818732602,0.0006445184,0.0006701964,0.0008922198,\n",
    "    0.0022871083,62.5,8.18632065818018E-07,1.1101243339254E-06,5.31406100542034E-07,\n",
    "    0.0073482945,0.0017111567,0.037838656,0.0073482945]\n",
    "\n",
    "mediaFlowRate = .001*60\n",
    "\n",
    "biomass = 1.136\n",
    "\n",
    "scale = 100\n",
    "\n",
    "maximumFluxes = [x*mediaFlowRate*scale/biomass for x in mediaMolarity]\n",
    "\n",
    "# maximumFluxes = [0.6993938587,6.8773538562,0.0541395486,0.0562964949,0.0749464668,\n",
    "#                  0.1921170999,5250,6.87650935287135E-05,9.32504440497336E-05,\n",
    "#                  4.46381124455309E-05,0.0002148887,0.1437371663]\n",
    "\n",
    "# maximumFluxes = [0.9297497724,9.1425140549,0.0719712253,0.0748385944,0.0996312158,\n",
    "#                     0.2553937638,6979.1666666667,9.14139140163453E-05,0.0001239639,\n",
    "#                     5.93403478938605E-05,0.0002856656,0.1910791695]\n",
    "\n",
    "\n",
    "newMedia = {reaction:flux for reaction,flux in zip(mediaReactions,maximumFluxes)}\n",
    "\n",
    "constrianedModel.medium = newMedia\n",
    "\n",
    "reactionsToConstrain = [constrianedModel.reactions.get_by_id('r_1761'), #ethanol\n",
    "                       constrianedModel.reactions.get_by_id('r_1714'), #glucose\n",
    "                       constrianedModel.reactions.get_by_id('r_1808'), #glyerol\n",
    "                       constrianedModel.reactions.get_by_id('r_1672'), #CO2\n",
    "                       constrianedModel.reactions.get_by_id('r_1634'), #acetate\n",
    "                       constrianedModel.reactions.get_by_id('r_2111')]\n",
    "outputGlycerol = 0.0\n",
    "outputEthanol = 0.0001045*scale\n",
    "inputGlucose = -1*maximumFluxes[0]\n",
    "outputCO2 = .75\n",
    "\n",
    "constrianedModel.reactions.get_by_id('r_1761').lower_bound = outputEthanol*.99\n",
    "constrianedModel.reactions.get_by_id('r_1761').upper_bound = outputEthanol*1.01\n",
    "\n",
    "constrianedModel.reactions.get_by_id('r_1808').lower_bound = outputGlycerol*.99\n",
    "constrianedModel.reactions.get_by_id('r_1808').upper_bound = outputGlycerol*1.01\n",
    "\n",
    "constrianedModel.reactions.get_by_id('r_1714').lower_bound = inputGlucose*1.2\n",
    "constrianedModel.reactions.get_by_id('r_1714').upper_bound = inputGlucose*.8\n",
    "\n",
    "# constrianedModel.reactions.get_by_id('r_1672').lower_bound = outputCO2*1.01\n",
    "# constrianedModel.reactions.get_by_id('r_1672').upper_bound = outputCO2*.99\n",
    "\n",
    "# for metabolite in mediaMetabolites:\n",
    "#     print([[x.id,x.reaction] for x in constrianedModel.metabolites.get_by_id(metabolite).reactions])\n",
    "\n",
    "sol = constrianedModel.optimize()\n",
    "fvaResult = cobra.flux_analysis.variability.flux_variability_analysis(constrianedModel,reactionsToConstrain,\n",
    "                                                            fraction_of_optimum=0.0,loopless = True)\n",
    "constrianedModel.summary()\n",
    "print(fvaResult)"
   ]
  },
  {
   "cell_type": "code",
   "execution_count": 8,
   "metadata": {},
   "outputs": [],
   "source": [
    "fullFVASol = cobra.flux_analysis.variability.flux_variability_analysis(constrianedModel,constrianedModel.reactions,\n",
    "                                                            fraction_of_optimum=0.0,loopless = True)\n",
    "pickle.dump(fullFVASol,open(\"FVAYeastGEMConstrained.pkl\",\"wb\"))\n"
   ]
  },
  {
   "cell_type": "code",
   "execution_count": 7,
   "metadata": {},
   "outputs": [],
   "source": [
    "fullFVASolgeneral = cobra.flux_analysis.variability.flux_variability_analysis(model,model.reactions,\n",
    "                                                            fraction_of_optimum=0.0,loopless = True)\n",
    "pickle.dump(fullFVASolgeneral,open(\"FVAYeastGEMUnconstrained.pkl\",\"wb\"))\n"
   ]
  },
  {
   "cell_type": "code",
   "execution_count": 8,
   "metadata": {},
   "outputs": [],
   "source": [
    "fullFVASol = pickle.load(open(\"FVAYeastGEMConstrained.pkl\",\"rb\"))"
   ]
  },
  {
   "cell_type": "code",
   "execution_count": 9,
   "metadata": {},
   "outputs": [],
   "source": [
    "fullFVASolgeneral = pickle.load(open(\"FVAYeastGEMUnconstrained.pkl\",\"rb\"))"
   ]
  },
  {
   "cell_type": "code",
   "execution_count": 9,
   "metadata": {},
   "outputs": [
    {
     "name": "stdout",
     "output_type": "stream",
     "text": [
      "3949\n",
      "3296\n",
      "180.13893095249372\n"
     ]
    }
   ],
   "source": [
    "constrainedReactions = {reaction:sum([maxi/2,mini/2]) for reaction,maxi,mini in \n",
    "            zip(fullFVASol.index.values,fullFVASol.maximum.values,fullFVASol.minimum.values)\n",
    "            if maxi-mini <= .05*sum([maxi/2,mini/2])}\n",
    "\n",
    "totalVariability = sum([(maxi - mini) for maxi,mini in \n",
    "            zip(fullFVASol.maximum.values,fullFVASol.minimum.values)])\n",
    "\n",
    "print(len(fullFVASol))\n",
    "print(len(constrainedReactions))\n",
    "print(totalVariability)\n"
   ]
  },
  {
   "cell_type": "code",
   "execution_count": 15,
   "metadata": {},
   "outputs": [
    {
     "name": "stdout",
     "output_type": "stream",
     "text": [
      "3949\n",
      "3132\n",
      "2733.0956454779557\n"
     ]
    }
   ],
   "source": [
    "constrainedReactionsGeneral = {reaction:sum([maxi/2,mini/2]) for reaction,maxi,mini in \n",
    "            zip(fullFVASolgeneral.index.values,fullFVASolgeneral.maximum.values,fullFVASolgeneral.minimum.values)\n",
    "            if  maxi-mini <= .05*sum([maxi/2,mini/2])}\n",
    "\n",
    "totalVariabilityGeneral = sum([(maxi - mini) for maxi,mini in \n",
    "            zip(fullFVASolgeneral.maximum.values,fullFVASolgeneral.minimum.values)])\n",
    "\n",
    "print(len(fullFVASolgeneral))\n",
    "print(len(constrainedReactionsGeneral))\n",
    "print(totalVariabilityGeneral)"
   ]
  },
  {
   "cell_type": "code",
   "execution_count": 31,
   "metadata": {},
   "outputs": [
    {
     "name": "stdout",
     "output_type": "stream",
     "text": [
      "['r_2049', 'r_2038', 'r_1714', 'r_2020', 'r_1992', 'r_1947', 'r_1893', 'r_1654', 'r_1671', 'r_1902', 'r_2090', 'r_1899']\n",
      "         minimum   maximum\n",
      "r_2049  0.000000  0.000000\n",
      "r_2038  0.000000  0.000000\n",
      "r_1714 -0.759000 -0.621000\n",
      "r_2020  0.000000  0.000000\n",
      "r_1992 -2.638860  0.000000\n",
      "r_1947  0.000000  0.000000\n",
      "r_1893  0.000000  0.284928\n",
      "r_1654 -3.476471  1.065430\n",
      "r_1671  0.000000  0.000000\n",
      "r_1902 -1.000000  0.000000\n",
      "r_2090 -0.263251  0.000000\n",
      "r_1899 -1.000000  0.256484\n",
      "\n",
      "\n",
      "r_2049   0.1437371663\n",
      "r_2038   4.46381124455e-05\n",
      "r_1714   0.759\n",
      "r_2020   0.0002148887\n",
      "r_1992   5250\n",
      "r_1947   9.32504440497e-05\n",
      "r_1893   0.0541395486\n",
      "r_1654   6.8773538562\n",
      "r_1671   6.87650935287e-05\n",
      "r_1902   1\n",
      "r_2090   1\n",
      "r_1899   1\n"
     ]
    }
   ],
   "source": [
    "mediaReactions = [x for x in constrianedModel.medium]\n",
    "print(mediaReactions)\n",
    "print(fullFVASol.loc[mediaReactions])\n",
    "print(\"\\n\")\n",
    "for x in mediaReactions: print x, \" \", constrianedModel.medium[x]"
   ]
  },
  {
   "cell_type": "code",
   "execution_count": 24,
   "metadata": {
    "scrolled": true
   },
   "outputs": [
    {
     "name": "stderr",
     "output_type": "stream",
     "text": [
      "cobra/util/solver.py:408 \u001b[1;31mUserWarning\u001b[0m: solver status is 'infeasible'\n"
     ]
    },
    {
     "ename": "ContainerAlreadyContains",
     "evalue": "Container '<optlang.container.Container object at 0x7f98e76504d0>' already contains an object with name 'geometric_fba_r_0001'.",
     "output_type": "error",
     "traceback": [
      "\u001b[0;31m---------------------------------------------------------------------------\u001b[0m",
      "\u001b[0;31mContainerAlreadyContains\u001b[0m                  Traceback (most recent call last)",
      "\u001b[0;32m<ipython-input-24-d0b1e5fcafd2>\u001b[0m in \u001b[0;36m<module>\u001b[0;34m()\u001b[0m\n\u001b[1;32m      1\u001b[0m \u001b[0mconstrainedGeometricFBASol\u001b[0m \u001b[0;34m=\u001b[0m \u001b[0mcobra\u001b[0m\u001b[0;34m.\u001b[0m\u001b[0mflux_analysis\u001b[0m\u001b[0;34m.\u001b[0m\u001b[0mgeometric_fba\u001b[0m\u001b[0;34m(\u001b[0m\u001b[0mconstrianedModel\u001b[0m\u001b[0;34m)\u001b[0m\u001b[0;34m\u001b[0m\u001b[0m\n\u001b[0;32m----> 2\u001b[0;31m \u001b[0mgeometricFBASol\u001b[0m \u001b[0;34m=\u001b[0m \u001b[0mcobra\u001b[0m\u001b[0;34m.\u001b[0m\u001b[0mflux_analysis\u001b[0m\u001b[0;34m.\u001b[0m\u001b[0mgeometric_fba\u001b[0m\u001b[0;34m(\u001b[0m\u001b[0mmodel\u001b[0m\u001b[0;34m)\u001b[0m\u001b[0;34m\u001b[0m\u001b[0m\n\u001b[0m",
      "\u001b[0;32m/usr/local/lib/python2.7/dist-packages/cobra/flux_analysis/geometric.pyc\u001b[0m in \u001b[0;36mgeometric_fba\u001b[0;34m(model, epsilon, max_tries)\u001b[0m\n\u001b[1;32m    112\u001b[0m                 \u001b[0;34m\"model and can lead to inaccurate results. Please set a \"\u001b[0m\u001b[0;34m\u001b[0m\u001b[0m\n\u001b[1;32m    113\u001b[0m                 \u001b[0;34m\"different convergence tolerance and/or increase the \"\u001b[0m\u001b[0;34m\u001b[0m\u001b[0m\n\u001b[0;32m--> 114\u001b[0;31m                 \u001b[0;34m\"maximum iterations\"\u001b[0m\u001b[0;34m.\u001b[0m\u001b[0mformat\u001b[0m\u001b[0;34m(\u001b[0m\u001b[0mmax_tries\u001b[0m\u001b[0;34m)\u001b[0m\u001b[0;34m\u001b[0m\u001b[0m\n\u001b[0m\u001b[1;32m    115\u001b[0m             )\n\u001b[1;32m    116\u001b[0m \u001b[0;34m\u001b[0m\u001b[0m\n",
      "\u001b[0;32m/usr/local/lib/python2.7/dist-packages/cobra/core/model.pyc\u001b[0m in \u001b[0;36m__exit__\u001b[0;34m(self, type, value, traceback)\u001b[0m\n\u001b[1;32m   1010\u001b[0m         \u001b[0;34m\"\"\"Pop the top context manager and trigger the undo functions\"\"\"\u001b[0m\u001b[0;34m\u001b[0m\u001b[0m\n\u001b[1;32m   1011\u001b[0m         \u001b[0mcontext\u001b[0m \u001b[0;34m=\u001b[0m \u001b[0mself\u001b[0m\u001b[0;34m.\u001b[0m\u001b[0m_contexts\u001b[0m\u001b[0;34m.\u001b[0m\u001b[0mpop\u001b[0m\u001b[0;34m(\u001b[0m\u001b[0;34m)\u001b[0m\u001b[0;34m\u001b[0m\u001b[0m\n\u001b[0;32m-> 1012\u001b[0;31m         \u001b[0mcontext\u001b[0m\u001b[0;34m.\u001b[0m\u001b[0mreset\u001b[0m\u001b[0;34m(\u001b[0m\u001b[0;34m)\u001b[0m\u001b[0;34m\u001b[0m\u001b[0m\n\u001b[0m\u001b[1;32m   1013\u001b[0m \u001b[0;34m\u001b[0m\u001b[0m\n\u001b[1;32m   1014\u001b[0m     def merge(self, right, prefix_existing=None, inplace=True,\n",
      "\u001b[0;32m/usr/local/lib/python2.7/dist-packages/cobra/util/context.pyc\u001b[0m in \u001b[0;36mreset\u001b[0;34m(self)\u001b[0m\n\u001b[1;32m     34\u001b[0m         \u001b[0;32mwhile\u001b[0m \u001b[0mself\u001b[0m\u001b[0;34m.\u001b[0m\u001b[0m_history\u001b[0m\u001b[0;34m:\u001b[0m\u001b[0;34m\u001b[0m\u001b[0m\n\u001b[1;32m     35\u001b[0m             \u001b[0mentry\u001b[0m \u001b[0;34m=\u001b[0m \u001b[0mself\u001b[0m\u001b[0;34m.\u001b[0m\u001b[0m_history\u001b[0m\u001b[0;34m.\u001b[0m\u001b[0mpop\u001b[0m\u001b[0;34m(\u001b[0m\u001b[0;34m)\u001b[0m\u001b[0;34m\u001b[0m\u001b[0m\n\u001b[0;32m---> 36\u001b[0;31m             \u001b[0mentry\u001b[0m\u001b[0;34m(\u001b[0m\u001b[0;34m)\u001b[0m\u001b[0;34m\u001b[0m\u001b[0m\n\u001b[0m\u001b[1;32m     37\u001b[0m \u001b[0;34m\u001b[0m\u001b[0m\n\u001b[1;32m     38\u001b[0m \u001b[0;34m\u001b[0m\u001b[0m\n",
      "\u001b[0;32m/usr/local/lib/python2.7/dist-packages/optlang/interface.pyc\u001b[0m in \u001b[0;36mremove\u001b[0;34m(self, stuff)\u001b[0m\n\u001b[1;32m   1388\u001b[0m         \"\"\"\n\u001b[1;32m   1389\u001b[0m         \u001b[0;32mif\u001b[0m \u001b[0mself\u001b[0m\u001b[0;34m.\u001b[0m\u001b[0m_pending_modifications\u001b[0m\u001b[0;34m.\u001b[0m\u001b[0mtoggle\u001b[0m \u001b[0;34m==\u001b[0m \u001b[0;34m'add'\u001b[0m\u001b[0;34m:\u001b[0m\u001b[0;34m\u001b[0m\u001b[0m\n\u001b[0;32m-> 1390\u001b[0;31m             \u001b[0mself\u001b[0m\u001b[0;34m.\u001b[0m\u001b[0mupdate\u001b[0m\u001b[0;34m(\u001b[0m\u001b[0;34m)\u001b[0m\u001b[0;34m\u001b[0m\u001b[0m\n\u001b[0m\u001b[1;32m   1391\u001b[0m             \u001b[0mself\u001b[0m\u001b[0;34m.\u001b[0m\u001b[0m_pending_modifications\u001b[0m\u001b[0;34m.\u001b[0m\u001b[0mtoggle\u001b[0m \u001b[0;34m=\u001b[0m \u001b[0;34m'remove'\u001b[0m\u001b[0;34m\u001b[0m\u001b[0m\n\u001b[1;32m   1392\u001b[0m         \u001b[0;32mif\u001b[0m \u001b[0misinstance\u001b[0m\u001b[0;34m(\u001b[0m\u001b[0mstuff\u001b[0m\u001b[0;34m,\u001b[0m \u001b[0mstr\u001b[0m\u001b[0;34m)\u001b[0m\u001b[0;34m:\u001b[0m\u001b[0;34m\u001b[0m\u001b[0m\n",
      "\u001b[0;32m/usr/local/lib/python2.7/dist-packages/optlang/gurobi_interface.pyc\u001b[0m in \u001b[0;36mupdate\u001b[0;34m(self)\u001b[0m\n\u001b[1;32m    653\u001b[0m \u001b[0;34m\u001b[0m\u001b[0m\n\u001b[1;32m    654\u001b[0m     \u001b[0;32mdef\u001b[0m \u001b[0mupdate\u001b[0m\u001b[0;34m(\u001b[0m\u001b[0mself\u001b[0m\u001b[0;34m)\u001b[0m\u001b[0;34m:\u001b[0m\u001b[0;34m\u001b[0m\u001b[0m\n\u001b[0;32m--> 655\u001b[0;31m         \u001b[0msuper\u001b[0m\u001b[0;34m(\u001b[0m\u001b[0mModel\u001b[0m\u001b[0;34m,\u001b[0m \u001b[0mself\u001b[0m\u001b[0;34m)\u001b[0m\u001b[0;34m.\u001b[0m\u001b[0mupdate\u001b[0m\u001b[0;34m(\u001b[0m\u001b[0mcallback\u001b[0m\u001b[0;34m=\u001b[0m\u001b[0mself\u001b[0m\u001b[0;34m.\u001b[0m\u001b[0mproblem\u001b[0m\u001b[0;34m.\u001b[0m\u001b[0mupdate\u001b[0m\u001b[0;34m)\u001b[0m\u001b[0;34m\u001b[0m\u001b[0m\n\u001b[0m\u001b[1;32m    656\u001b[0m \u001b[0;34m\u001b[0m\u001b[0m\n\u001b[1;32m    657\u001b[0m     \u001b[0;32mdef\u001b[0m \u001b[0m_optimize\u001b[0m\u001b[0;34m(\u001b[0m\u001b[0mself\u001b[0m\u001b[0;34m)\u001b[0m\u001b[0;34m:\u001b[0m\u001b[0;34m\u001b[0m\u001b[0m\n",
      "\u001b[0;32m/usr/local/lib/python2.7/dist-packages/optlang/interface.pyc\u001b[0m in \u001b[0;36mupdate\u001b[0;34m(self, callback)\u001b[0m\n\u001b[1;32m   1420\u001b[0m         \u001b[0madd_var\u001b[0m \u001b[0;34m=\u001b[0m \u001b[0mself\u001b[0m\u001b[0;34m.\u001b[0m\u001b[0m_pending_modifications\u001b[0m\u001b[0;34m.\u001b[0m\u001b[0madd_var\u001b[0m\u001b[0;34m\u001b[0m\u001b[0m\n\u001b[1;32m   1421\u001b[0m         \u001b[0;32mif\u001b[0m \u001b[0mlen\u001b[0m\u001b[0;34m(\u001b[0m\u001b[0madd_var\u001b[0m\u001b[0;34m)\u001b[0m \u001b[0;34m>\u001b[0m \u001b[0;36m0\u001b[0m\u001b[0;34m:\u001b[0m\u001b[0;34m\u001b[0m\u001b[0m\n\u001b[0;32m-> 1422\u001b[0;31m             \u001b[0mself\u001b[0m\u001b[0;34m.\u001b[0m\u001b[0m_add_variables\u001b[0m\u001b[0;34m(\u001b[0m\u001b[0madd_var\u001b[0m\u001b[0;34m)\u001b[0m\u001b[0;34m\u001b[0m\u001b[0m\n\u001b[0m\u001b[1;32m   1423\u001b[0m             \u001b[0mself\u001b[0m\u001b[0;34m.\u001b[0m\u001b[0m_pending_modifications\u001b[0m\u001b[0;34m.\u001b[0m\u001b[0madd_var\u001b[0m \u001b[0;34m=\u001b[0m \u001b[0;34m[\u001b[0m\u001b[0;34m]\u001b[0m\u001b[0;34m\u001b[0m\u001b[0m\n\u001b[1;32m   1424\u001b[0m         \u001b[0mcallback\u001b[0m\u001b[0;34m(\u001b[0m\u001b[0;34m)\u001b[0m\u001b[0;34m\u001b[0m\u001b[0m\n",
      "\u001b[0;32m/usr/local/lib/python2.7/dist-packages/optlang/gurobi_interface.pyc\u001b[0m in \u001b[0;36m_add_variables\u001b[0;34m(self, variables)\u001b[0m\n\u001b[1;32m    664\u001b[0m \u001b[0;34m\u001b[0m\u001b[0m\n\u001b[1;32m    665\u001b[0m     \u001b[0;32mdef\u001b[0m \u001b[0m_add_variables\u001b[0m\u001b[0;34m(\u001b[0m\u001b[0mself\u001b[0m\u001b[0;34m,\u001b[0m \u001b[0mvariables\u001b[0m\u001b[0;34m)\u001b[0m\u001b[0;34m:\u001b[0m\u001b[0;34m\u001b[0m\u001b[0m\n\u001b[0;32m--> 666\u001b[0;31m         \u001b[0msuper\u001b[0m\u001b[0;34m(\u001b[0m\u001b[0mModel\u001b[0m\u001b[0;34m,\u001b[0m \u001b[0mself\u001b[0m\u001b[0;34m)\u001b[0m\u001b[0;34m.\u001b[0m\u001b[0m_add_variables\u001b[0m\u001b[0;34m(\u001b[0m\u001b[0mvariables\u001b[0m\u001b[0;34m)\u001b[0m\u001b[0;34m\u001b[0m\u001b[0m\n\u001b[0m\u001b[1;32m    667\u001b[0m         \u001b[0;32mfor\u001b[0m \u001b[0mvariable\u001b[0m \u001b[0;32min\u001b[0m \u001b[0mvariables\u001b[0m\u001b[0;34m:\u001b[0m\u001b[0;34m\u001b[0m\u001b[0m\n\u001b[1;32m    668\u001b[0m             \u001b[0;32mif\u001b[0m \u001b[0mvariable\u001b[0m\u001b[0;34m.\u001b[0m\u001b[0mlb\u001b[0m \u001b[0;32mis\u001b[0m \u001b[0mNone\u001b[0m\u001b[0;34m:\u001b[0m\u001b[0;34m\u001b[0m\u001b[0m\n",
      "\u001b[0;32m/usr/local/lib/python2.7/dist-packages/optlang/interface.pyc\u001b[0m in \u001b[0;36m_add_variables\u001b[0;34m(self, variables)\u001b[0m\n\u001b[1;32m   1489\u001b[0m     \u001b[0;32mdef\u001b[0m \u001b[0m_add_variables\u001b[0m\u001b[0;34m(\u001b[0m\u001b[0mself\u001b[0m\u001b[0;34m,\u001b[0m \u001b[0mvariables\u001b[0m\u001b[0;34m)\u001b[0m\u001b[0;34m:\u001b[0m\u001b[0;34m\u001b[0m\u001b[0m\n\u001b[1;32m   1490\u001b[0m         \u001b[0;32mfor\u001b[0m \u001b[0mvariable\u001b[0m \u001b[0;32min\u001b[0m \u001b[0mvariables\u001b[0m\u001b[0;34m:\u001b[0m\u001b[0;34m\u001b[0m\u001b[0m\n\u001b[0;32m-> 1491\u001b[0;31m             \u001b[0mself\u001b[0m\u001b[0;34m.\u001b[0m\u001b[0m_variables\u001b[0m\u001b[0;34m.\u001b[0m\u001b[0mappend\u001b[0m\u001b[0;34m(\u001b[0m\u001b[0mvariable\u001b[0m\u001b[0;34m)\u001b[0m\u001b[0;34m\u001b[0m\u001b[0m\n\u001b[0m\u001b[1;32m   1492\u001b[0m             \u001b[0mself\u001b[0m\u001b[0;34m.\u001b[0m\u001b[0m_variables_to_constraints_mapping\u001b[0m\u001b[0;34m[\u001b[0m\u001b[0mvariable\u001b[0m\u001b[0;34m.\u001b[0m\u001b[0mname\u001b[0m\u001b[0;34m]\u001b[0m \u001b[0;34m=\u001b[0m \u001b[0mset\u001b[0m\u001b[0;34m(\u001b[0m\u001b[0;34m[\u001b[0m\u001b[0;34m]\u001b[0m\u001b[0;34m)\u001b[0m\u001b[0;34m\u001b[0m\u001b[0m\n\u001b[1;32m   1493\u001b[0m             \u001b[0mvariable\u001b[0m\u001b[0;34m.\u001b[0m\u001b[0mproblem\u001b[0m \u001b[0;34m=\u001b[0m \u001b[0mself\u001b[0m\u001b[0;34m\u001b[0m\u001b[0m\n",
      "\u001b[0;32m/usr/local/lib/python2.7/dist-packages/optlang/container.pyc\u001b[0m in \u001b[0;36mappend\u001b[0;34m(self, value)\u001b[0m\n\u001b[1;32m    170\u001b[0m         \u001b[0mname\u001b[0m \u001b[0;34m=\u001b[0m \u001b[0mvalue\u001b[0m\u001b[0;34m.\u001b[0m\u001b[0mname\u001b[0m\u001b[0;34m\u001b[0m\u001b[0m\n\u001b[1;32m    171\u001b[0m         \u001b[0;32mif\u001b[0m \u001b[0mname\u001b[0m \u001b[0;32min\u001b[0m \u001b[0mself\u001b[0m\u001b[0;34m.\u001b[0m\u001b[0m_dict\u001b[0m\u001b[0;34m:\u001b[0m\u001b[0;34m\u001b[0m\u001b[0m\n\u001b[0;32m--> 172\u001b[0;31m             \u001b[0;32mraise\u001b[0m \u001b[0mContainerAlreadyContains\u001b[0m\u001b[0;34m(\u001b[0m\u001b[0;34m\"Container '%s' already contains an object with name '%s'.\"\u001b[0m \u001b[0;34m%\u001b[0m \u001b[0;34m(\u001b[0m\u001b[0mself\u001b[0m\u001b[0;34m,\u001b[0m \u001b[0mvalue\u001b[0m\u001b[0;34m.\u001b[0m\u001b[0mname\u001b[0m\u001b[0;34m)\u001b[0m\u001b[0;34m)\u001b[0m\u001b[0;34m\u001b[0m\u001b[0m\n\u001b[0m\u001b[1;32m    173\u001b[0m         \u001b[0mself\u001b[0m\u001b[0;34m.\u001b[0m\u001b[0m_indices\u001b[0m\u001b[0;34m[\u001b[0m\u001b[0mname\u001b[0m\u001b[0;34m]\u001b[0m \u001b[0;34m=\u001b[0m \u001b[0mlen\u001b[0m\u001b[0;34m(\u001b[0m\u001b[0mself\u001b[0m\u001b[0;34m)\u001b[0m\u001b[0;34m\u001b[0m\u001b[0m\n\u001b[1;32m    174\u001b[0m         \u001b[0mself\u001b[0m\u001b[0;34m.\u001b[0m\u001b[0m_object_list\u001b[0m\u001b[0;34m.\u001b[0m\u001b[0mappend\u001b[0m\u001b[0;34m(\u001b[0m\u001b[0mvalue\u001b[0m\u001b[0;34m)\u001b[0m\u001b[0;34m\u001b[0m\u001b[0m\n",
      "\u001b[0;31mContainerAlreadyContains\u001b[0m: Container '<optlang.container.Container object at 0x7f98e76504d0>' already contains an object with name 'geometric_fba_r_0001'."
     ]
    }
   ],
   "source": [
    "constrainedGeometricFBASol = cobra.flux_analysis.geometric_fba(constrianedModel)\n",
    "geometricFBASol = cobra.flux_analysis.geometric_fba(model) "
   ]
  },
  {
   "cell_type": "markdown",
   "metadata": {},
   "source": []
  }
 ],
 "metadata": {
  "kernelspec": {
   "display_name": "Python 2",
   "language": "python",
   "name": "python2"
  },
  "language_info": {
   "codemirror_mode": {
    "name": "ipython",
    "version": 2
   },
   "file_extension": ".py",
   "mimetype": "text/x-python",
   "name": "python",
   "nbconvert_exporter": "python",
   "pygments_lexer": "ipython2",
   "version": "2.7.12"
  }
 },
 "nbformat": 4,
 "nbformat_minor": 2
}
