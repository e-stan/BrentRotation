{
 "cells": [
  {
   "cell_type": "code",
   "execution_count": 1,
   "metadata": {},
   "outputs": [],
   "source": [
    "import cobra\n",
    "from copy import deepcopy\n",
    "import pickle\n",
    "\n",
    "# Load model\n",
    "\n",
    "def getModel():\n",
    "    model = cobra.io.read_sbml_model('yeastGEM.xml')\n",
    "\n",
    "    # Correct metabolite ids:\n",
    "    for met in model.metabolites:\n",
    "        met.id = met.id.replace('__91__', '_')\n",
    "        met.id = met.id.replace('__93__', '')\n",
    "\n",
    "    model.solver = 'gurobi'\n",
    "    return model\n",
    "\n"
   ]
  },
  {
   "cell_type": "code",
   "execution_count": 2,
   "metadata": {},
   "outputs": [
    {
     "name": "stdout",
     "output_type": "stream",
     "text": [
      "Academic license - for non-commercial use only\n"
     ]
    }
   ],
   "source": [
    "model = getModel()"
   ]
  },
  {
   "cell_type": "code",
   "execution_count": 2,
   "metadata": {},
   "outputs": [
    {
     "name": "stdout",
     "output_type": "stream",
     "text": [
      "3949\n",
      "1133\n",
      "2680\n"
     ]
    }
   ],
   "source": [
    "print(len(model.reactions))\n",
    "print(len(model.genes))\n",
    "print(len(model.metabolites))\n"
   ]
  },
  {
   "cell_type": "code",
   "execution_count": 3,
   "metadata": {},
   "outputs": [
    {
     "name": "stdout",
     "output_type": "stream",
     "text": [
      "set(['c', 'e', 'g', 'mm', 'm', 'vm', 'ce', 'n', 'p', 'lp', 'v', 'erm', 'gm', 'er'])\n"
     ]
    }
   ],
   "source": [
    "print(model.get_metabolite_compartments())"
   ]
  },
  {
   "cell_type": "code",
   "execution_count": 4,
   "metadata": {
    "scrolled": true
   },
   "outputs": [
    {
     "name": "stdout",
     "output_type": "stream",
     "text": [
      "2680\n",
      "3949\n"
     ]
    }
   ],
   "source": [
    "SMatrix = cobra.util.array.create_stoichiometric_matrix(model,\"dense\")\n",
    "print(len(SMatrix))\n",
    "print(len(SMatrix[0]))"
   ]
  },
  {
   "cell_type": "code",
   "execution_count": 3,
   "metadata": {},
   "outputs": [
    {
     "name": "stdout",
     "output_type": "stream",
     "text": [
      "[['s_0681_e --> ', 'r_1761'], ['s_0680_c <=> s_0681_e', 'r_1762']]\n",
      "[['s_0565_e --> s_0563_c', 'r_1166'], ['s_0805_e + s_4131_e <=> s_0554_e + s_0565_e', 'r_4420'], ['s_0805_e + s_4140_e --> s_0565_e + s_1106_e', 'r_4400'], ['s_0805_e + s_1466_e --> s_0554_e + s_0565_e', 'r_1024'], ['s_0003_e + s_0805_e --> s_0565_e', 'r_0370'], ['s_0565_e <=> ', 'r_1714']]\n",
      "[['s_0766_e + s_0796_e --> s_0765_c + s_0794_c', 'r_1171'], ['s_0765_c --> s_0766_e', 'r_1172'], ['s_0766_e --> ', 'r_1808']]\n",
      "[['s_0458_e --> ', 'r_1672'], ['s_0458_e + s_0805_e <=> s_0446_e + s_0796_e', 'r_1668'], ['s_0456_c <=> s_0458_e', 'r_1697']]\n",
      "[['s_0362_c <=> s_0364_e', 'r_1106'], ['s_0364_e --> ', 'r_1634']]\n"
     ]
    }
   ],
   "source": [
    "print([[x.reaction, x.id] for x in model.metabolites.get_by_id(\"s_0681_e\").reactions]) #ethanol\n",
    "print([[x.reaction, x.id] for x in model.metabolites.get_by_id(\"s_0565_e\").reactions]) #glucose\n",
    "print([[x.reaction, x.id] for x in model.metabolites.get_by_id(\"s_0766_e\").reactions]) #glycerol\n",
    "print([[x.reaction, x.id] for x in model.metabolites.get_by_id(\"s_0458_e\").reactions]) #CO2\n",
    "print([[x.reaction, x.id] for x in model.metabolites.get_by_id(\"s_0364_e\").reactions]) #Acetate\n",
    "\n",
    "reactionsToConstrain = [model.reactions.get_by_id('r_1761'), \n",
    "                       model.reactions.get_by_id('r_1714'),\n",
    "                       model.reactions.get_by_id('r_1808'),\n",
    "                       model.reactions.get_by_id('r_1672'),\n",
    "                       model.reactions.get_by_id('r_1634')]\n"
   ]
  },
  {
   "cell_type": "code",
   "execution_count": 9,
   "metadata": {},
   "outputs": [
    {
     "name": "stdout",
     "output_type": "stream",
     "text": [
      "IN FLUXES          OUT FLUXES      OBJECTIVES\n",
      "-----------------  --------------  --------------\n",
      "s_1277_e  2.23     s_0805_e  3.91  r_2111  0.0879\n",
      "s_0565_e  1        s_0458_e  2.41\n",
      "s_0796_e  0.789\n",
      "s_0420_e  0.557\n",
      "s_1324_e  0.0231\n",
      "s_1468_e  0.00754\n",
      "        minimum   maximum\n",
      "r_1761      0.0  2.000000\n",
      "r_1714     -1.0 -0.034104\n",
      "r_1808      0.0  1.582398\n",
      "r_1672      0.0  6.000000\n",
      "r_1634      0.0  2.499909\n"
     ]
    }
   ],
   "source": [
    "model.optimize()\n",
    "fvaResult = cobra.flux_analysis.variability.flux_variability_analysis(model,reactionsToConstrain,fraction_of_optimum = 0.0,loopless=True)\n",
    "model.summary()\n",
    "print(fvaResult)"
   ]
  },
  {
   "cell_type": "code",
   "execution_count": 10,
   "metadata": {},
   "outputs": [
    {
     "name": "stdout",
     "output_type": "stream",
     "text": [
      "{'r_2005': 1000.0, 'r_1714': 1.0, 'r_1992': 1000.0, 'r_2060': 1000.0, 'r_1654': 1000.0, 'r_1832': 1000.0, 'r_1861': 1000.0, 'r_2100': 1000.0}\n",
      "IN FLUXES        OUT FLUXES        OBJECTIVES\n",
      "---------------  ----------------  ----------------\n",
      "s_0565_e  0.621  s_0805_e  0.563   r_2111  6.79e-12\n",
      "s_1277_e  0.258  s_0458_e  0.378\n",
      "s_0420_e  0.202  s_0681_e  0.374\n",
      "                 s_0723_e  0.241\n",
      "                 s_1272_e  0.167\n",
      "                 s_4167_e  0.132\n",
      "                 s_0796_e  0.105\n",
      "                 s_1521_e  0.0542\n",
      "                 s_0966_e  0.0504\n",
      "                 s_0170_e  0.0504\n",
      "                 s_0766_e  0.0308\n",
      "        minimum   maximum\n",
      "r_1761   0.3060  0.374000\n",
      "r_1714  -0.7590 -0.621000\n",
      "r_1808   0.0252  0.030800\n",
      "r_1672   0.3780  0.378000\n",
      "r_1634   0.0000  1.097583\n"
     ]
    }
   ],
   "source": [
    "constrianedModel = getModel()\n",
    "\n",
    "mediaMetabolites = [\"s_0565_e\", \"s_0420_e\", \"s_1007_e\",\"s_1030_e\", \"s_1551_e\", \"s_1022_e\", \n",
    "                    \"s_1277_e\", \"s_0452_e\", \"s_1154_e\", \"s_1406_e\", \"s_1374_e\", \"s_1438_e\"]\n",
    "\n",
    "mediaReactions = ['r_1714','r_1654','r_1893','r_1902','r_2090','r_1899','r_1992','r_1671',\n",
    "                 'r_1947','r_2038','r_2020','r_2049']\n",
    "\n",
    "maximumFluxes = [0.6993938587,6.8773538562,0.0541395486,0.0562964949,0.0749464668,\n",
    "                 0.1921170999,5250,6.87650935287135E-05,9.32504440497336E-05,\n",
    "                 4.46381124455309E-05,0.0002148887,0.1437371663]\n",
    "\n",
    "\n",
    "newMedia = {reaction:flux for reaction,flux in zip(mediaReactions,maximumFluxes)}\n",
    "\n",
    "constrianedModel.medium = newMedia\n",
    "\n",
    "reactionsToConstrain = [constrianedModel.reactions.get_by_id('r_1761'), #ethanol\n",
    "                       constrianedModel.reactions.get_by_id('r_1714'), #glucose\n",
    "                       constrianedModel.reactions.get_by_id('r_1808'), #glyerol\n",
    "                       constrianedModel.reactions.get_by_id('r_1672'), #CO2\n",
    "                       constrianedModel.reactions.get_by_id('r_1634')] #acetate\n",
    "outputGlycerol = .028 \n",
    "outputEthanol = .34\n",
    "inputGlucose = -1*.69\n",
    "outputCO2 = .42\n",
    "\n",
    "constrianedModel.reactions.get_by_id('r_1761').lower_bound = outputEthanol*.9\n",
    "constrianedModel.reactions.get_by_id('r_1761').upper_bound = outputEthanol*1.1\n",
    "\n",
    "constrianedModel.reactions.get_by_id('r_1808').lower_bound = outputGlycerol*.9\n",
    "constrianedModel.reactions.get_by_id('r_1808').upper_bound = outputGlycerol*1.1\n",
    "\n",
    "constrianedModel.reactions.get_by_id('r_1714').lower_bound = inputGlucose*1.1\n",
    "constrianedModel.reactions.get_by_id('r_1714').upper_bound = inputGlucose*.9\n",
    "\n",
    "constrianedModel.reactions.get_by_id('r_1672').lower_bound = outputCO2*1.1\n",
    "constrianedModel.reactions.get_by_id('r_1672').upper_bound = outputCO2*.9\n",
    "\n",
    "# for metabolite in mediaMetabolites:\n",
    "#     print([[x.id,x.reaction] for x in constrianedModel.metabolites.get_by_id(metabolite).reactions])\n",
    "\n",
    "constrianedModel.optimize()\n",
    "fvaResult = cobra.flux_analysis.variability.flux_variability_analysis(constrianedModel,reactionsToConstrain,\n",
    "                                                            fraction_of_optimum=0.0,loopless = True)\n",
    "\n",
    "constrianedModel.summary()\n",
    "print(fvaResult)"
   ]
  },
  {
   "cell_type": "code",
   "execution_count": 22,
   "metadata": {},
   "outputs": [],
   "source": [
    "fullFVASol = cobra.flux_analysis.variability.flux_variability_analysis(constrianedModel,constrianedModel.reactions,\n",
    "                                                            fraction_of_optimum=0.0,loopless = True)\n",
    "pickle.dump(fullFVASol,open(\"FVAYeastGEMConstrained.pkl\",\"wb\"))\n"
   ]
  },
  {
   "cell_type": "code",
   "execution_count": 4,
   "metadata": {},
   "outputs": [],
   "source": [
    "fullFVASolgeneral = cobra.flux_analysis.variability.flux_variability_analysis(model,model.reactions,\n",
    "                                                            fraction_of_optimum=0.0,loopless = True)\n",
    "pickle.dump(fullFVASolgeneral,open(\"FVAYeastGEMUnconstrained.pkl\",\"wb\"))\n"
   ]
  },
  {
   "cell_type": "code",
   "execution_count": 5,
   "metadata": {},
   "outputs": [],
   "source": [
    "fullFVASol = pickle.load(open(\"FVAYeastGEMConstrained.pkl\",\"rb\"))"
   ]
  },
  {
   "cell_type": "code",
   "execution_count": null,
   "metadata": {},
   "outputs": [],
   "source": [
    "fullFVASolgeneral = pickle.load(open(\"FVAYeastGEMUnconstrained.pkl\",\"rb\"))"
   ]
  },
  {
   "cell_type": "code",
   "execution_count": 7,
   "metadata": {},
   "outputs": [
    {
     "name": "stdout",
     "output_type": "stream",
     "text": [
      "341\n",
      "150.9634296539459\n"
     ]
    }
   ],
   "source": [
    "constrainedReactions = {reaction:sum([maxi/2,mini/2]) for reaction,maxi,mini in \n",
    "            zip(fullFVASol.index.values,fullFVASol.maximum.values,fullFVASol.minimum.values)\n",
    "            if maxi-mini < .01}\n",
    "\n",
    "totalVariability = sum([(maxi - mini) for maxi,mini in \n",
    "            zip(fullFVASol.maximum.values,fullFVASol.minimum.values)])\n",
    "\n",
    "\n",
    "print(len(constrainedReactions))\n",
    "print(totalVariability)\n"
   ]
  },
  {
   "cell_type": "code",
   "execution_count": 9,
   "metadata": {},
   "outputs": [
    {
     "name": "stdout",
     "output_type": "stream",
     "text": [
      "350\n",
      "1499.5836427449483\n"
     ]
    }
   ],
   "source": [
    "constrainedReactionsGeneral = {reaction:sum([maxi/2,mini/2]) for reaction,maxi,mini in \n",
    "            zip(fullFVASolgeneral.index.values,fullFVASolgeneral.maximum.values,fullFVASolgeneral.minimum.values)\n",
    "            if maxi-mini < .01}\n",
    "\n",
    "totalVariabilityGeneral = sum([(maxi - mini) for maxi,mini in \n",
    "            zip(fullFVASolgeneral.maximum.values,fullFVASolgeneral.minimum.values)])\n",
    "\n",
    "\n",
    "print(len(constrainedReactionsGeneral))\n",
    "print(totalVariabilityGeneral)"
   ]
  },
  {
   "cell_type": "code",
   "execution_count": 24,
   "metadata": {},
   "outputs": [
    {
     "name": "stderr",
     "output_type": "stream",
     "text": [
      "cobra/util/solver.py:408 \u001b[1;31mUserWarning\u001b[0m: solver status is 'infeasible'\n"
     ]
    },
    {
     "ename": "ContainerAlreadyContains",
     "evalue": "Container '<optlang.container.Container object at 0x7f98e76504d0>' already contains an object with name 'geometric_fba_r_0001'.",
     "output_type": "error",
     "traceback": [
      "\u001b[0;31m---------------------------------------------------------------------------\u001b[0m",
      "\u001b[0;31mContainerAlreadyContains\u001b[0m                  Traceback (most recent call last)",
      "\u001b[0;32m<ipython-input-24-d0b1e5fcafd2>\u001b[0m in \u001b[0;36m<module>\u001b[0;34m()\u001b[0m\n\u001b[1;32m      1\u001b[0m \u001b[0mconstrainedGeometricFBASol\u001b[0m \u001b[0;34m=\u001b[0m \u001b[0mcobra\u001b[0m\u001b[0;34m.\u001b[0m\u001b[0mflux_analysis\u001b[0m\u001b[0;34m.\u001b[0m\u001b[0mgeometric_fba\u001b[0m\u001b[0;34m(\u001b[0m\u001b[0mconstrianedModel\u001b[0m\u001b[0;34m)\u001b[0m\u001b[0;34m\u001b[0m\u001b[0m\n\u001b[0;32m----> 2\u001b[0;31m \u001b[0mgeometricFBASol\u001b[0m \u001b[0;34m=\u001b[0m \u001b[0mcobra\u001b[0m\u001b[0;34m.\u001b[0m\u001b[0mflux_analysis\u001b[0m\u001b[0;34m.\u001b[0m\u001b[0mgeometric_fba\u001b[0m\u001b[0;34m(\u001b[0m\u001b[0mmodel\u001b[0m\u001b[0;34m)\u001b[0m\u001b[0;34m\u001b[0m\u001b[0m\n\u001b[0m",
      "\u001b[0;32m/usr/local/lib/python2.7/dist-packages/cobra/flux_analysis/geometric.pyc\u001b[0m in \u001b[0;36mgeometric_fba\u001b[0;34m(model, epsilon, max_tries)\u001b[0m\n\u001b[1;32m    112\u001b[0m                 \u001b[0;34m\"model and can lead to inaccurate results. Please set a \"\u001b[0m\u001b[0;34m\u001b[0m\u001b[0m\n\u001b[1;32m    113\u001b[0m                 \u001b[0;34m\"different convergence tolerance and/or increase the \"\u001b[0m\u001b[0;34m\u001b[0m\u001b[0m\n\u001b[0;32m--> 114\u001b[0;31m                 \u001b[0;34m\"maximum iterations\"\u001b[0m\u001b[0;34m.\u001b[0m\u001b[0mformat\u001b[0m\u001b[0;34m(\u001b[0m\u001b[0mmax_tries\u001b[0m\u001b[0;34m)\u001b[0m\u001b[0;34m\u001b[0m\u001b[0m\n\u001b[0m\u001b[1;32m    115\u001b[0m             )\n\u001b[1;32m    116\u001b[0m \u001b[0;34m\u001b[0m\u001b[0m\n",
      "\u001b[0;32m/usr/local/lib/python2.7/dist-packages/cobra/core/model.pyc\u001b[0m in \u001b[0;36m__exit__\u001b[0;34m(self, type, value, traceback)\u001b[0m\n\u001b[1;32m   1010\u001b[0m         \u001b[0;34m\"\"\"Pop the top context manager and trigger the undo functions\"\"\"\u001b[0m\u001b[0;34m\u001b[0m\u001b[0m\n\u001b[1;32m   1011\u001b[0m         \u001b[0mcontext\u001b[0m \u001b[0;34m=\u001b[0m \u001b[0mself\u001b[0m\u001b[0;34m.\u001b[0m\u001b[0m_contexts\u001b[0m\u001b[0;34m.\u001b[0m\u001b[0mpop\u001b[0m\u001b[0;34m(\u001b[0m\u001b[0;34m)\u001b[0m\u001b[0;34m\u001b[0m\u001b[0m\n\u001b[0;32m-> 1012\u001b[0;31m         \u001b[0mcontext\u001b[0m\u001b[0;34m.\u001b[0m\u001b[0mreset\u001b[0m\u001b[0;34m(\u001b[0m\u001b[0;34m)\u001b[0m\u001b[0;34m\u001b[0m\u001b[0m\n\u001b[0m\u001b[1;32m   1013\u001b[0m \u001b[0;34m\u001b[0m\u001b[0m\n\u001b[1;32m   1014\u001b[0m     def merge(self, right, prefix_existing=None, inplace=True,\n",
      "\u001b[0;32m/usr/local/lib/python2.7/dist-packages/cobra/util/context.pyc\u001b[0m in \u001b[0;36mreset\u001b[0;34m(self)\u001b[0m\n\u001b[1;32m     34\u001b[0m         \u001b[0;32mwhile\u001b[0m \u001b[0mself\u001b[0m\u001b[0;34m.\u001b[0m\u001b[0m_history\u001b[0m\u001b[0;34m:\u001b[0m\u001b[0;34m\u001b[0m\u001b[0m\n\u001b[1;32m     35\u001b[0m             \u001b[0mentry\u001b[0m \u001b[0;34m=\u001b[0m \u001b[0mself\u001b[0m\u001b[0;34m.\u001b[0m\u001b[0m_history\u001b[0m\u001b[0;34m.\u001b[0m\u001b[0mpop\u001b[0m\u001b[0;34m(\u001b[0m\u001b[0;34m)\u001b[0m\u001b[0;34m\u001b[0m\u001b[0m\n\u001b[0;32m---> 36\u001b[0;31m             \u001b[0mentry\u001b[0m\u001b[0;34m(\u001b[0m\u001b[0;34m)\u001b[0m\u001b[0;34m\u001b[0m\u001b[0m\n\u001b[0m\u001b[1;32m     37\u001b[0m \u001b[0;34m\u001b[0m\u001b[0m\n\u001b[1;32m     38\u001b[0m \u001b[0;34m\u001b[0m\u001b[0m\n",
      "\u001b[0;32m/usr/local/lib/python2.7/dist-packages/optlang/interface.pyc\u001b[0m in \u001b[0;36mremove\u001b[0;34m(self, stuff)\u001b[0m\n\u001b[1;32m   1388\u001b[0m         \"\"\"\n\u001b[1;32m   1389\u001b[0m         \u001b[0;32mif\u001b[0m \u001b[0mself\u001b[0m\u001b[0;34m.\u001b[0m\u001b[0m_pending_modifications\u001b[0m\u001b[0;34m.\u001b[0m\u001b[0mtoggle\u001b[0m \u001b[0;34m==\u001b[0m \u001b[0;34m'add'\u001b[0m\u001b[0;34m:\u001b[0m\u001b[0;34m\u001b[0m\u001b[0m\n\u001b[0;32m-> 1390\u001b[0;31m             \u001b[0mself\u001b[0m\u001b[0;34m.\u001b[0m\u001b[0mupdate\u001b[0m\u001b[0;34m(\u001b[0m\u001b[0;34m)\u001b[0m\u001b[0;34m\u001b[0m\u001b[0m\n\u001b[0m\u001b[1;32m   1391\u001b[0m             \u001b[0mself\u001b[0m\u001b[0;34m.\u001b[0m\u001b[0m_pending_modifications\u001b[0m\u001b[0;34m.\u001b[0m\u001b[0mtoggle\u001b[0m \u001b[0;34m=\u001b[0m \u001b[0;34m'remove'\u001b[0m\u001b[0;34m\u001b[0m\u001b[0m\n\u001b[1;32m   1392\u001b[0m         \u001b[0;32mif\u001b[0m \u001b[0misinstance\u001b[0m\u001b[0;34m(\u001b[0m\u001b[0mstuff\u001b[0m\u001b[0;34m,\u001b[0m \u001b[0mstr\u001b[0m\u001b[0;34m)\u001b[0m\u001b[0;34m:\u001b[0m\u001b[0;34m\u001b[0m\u001b[0m\n",
      "\u001b[0;32m/usr/local/lib/python2.7/dist-packages/optlang/gurobi_interface.pyc\u001b[0m in \u001b[0;36mupdate\u001b[0;34m(self)\u001b[0m\n\u001b[1;32m    653\u001b[0m \u001b[0;34m\u001b[0m\u001b[0m\n\u001b[1;32m    654\u001b[0m     \u001b[0;32mdef\u001b[0m \u001b[0mupdate\u001b[0m\u001b[0;34m(\u001b[0m\u001b[0mself\u001b[0m\u001b[0;34m)\u001b[0m\u001b[0;34m:\u001b[0m\u001b[0;34m\u001b[0m\u001b[0m\n\u001b[0;32m--> 655\u001b[0;31m         \u001b[0msuper\u001b[0m\u001b[0;34m(\u001b[0m\u001b[0mModel\u001b[0m\u001b[0;34m,\u001b[0m \u001b[0mself\u001b[0m\u001b[0;34m)\u001b[0m\u001b[0;34m.\u001b[0m\u001b[0mupdate\u001b[0m\u001b[0;34m(\u001b[0m\u001b[0mcallback\u001b[0m\u001b[0;34m=\u001b[0m\u001b[0mself\u001b[0m\u001b[0;34m.\u001b[0m\u001b[0mproblem\u001b[0m\u001b[0;34m.\u001b[0m\u001b[0mupdate\u001b[0m\u001b[0;34m)\u001b[0m\u001b[0;34m\u001b[0m\u001b[0m\n\u001b[0m\u001b[1;32m    656\u001b[0m \u001b[0;34m\u001b[0m\u001b[0m\n\u001b[1;32m    657\u001b[0m     \u001b[0;32mdef\u001b[0m \u001b[0m_optimize\u001b[0m\u001b[0;34m(\u001b[0m\u001b[0mself\u001b[0m\u001b[0;34m)\u001b[0m\u001b[0;34m:\u001b[0m\u001b[0;34m\u001b[0m\u001b[0m\n",
      "\u001b[0;32m/usr/local/lib/python2.7/dist-packages/optlang/interface.pyc\u001b[0m in \u001b[0;36mupdate\u001b[0;34m(self, callback)\u001b[0m\n\u001b[1;32m   1420\u001b[0m         \u001b[0madd_var\u001b[0m \u001b[0;34m=\u001b[0m \u001b[0mself\u001b[0m\u001b[0;34m.\u001b[0m\u001b[0m_pending_modifications\u001b[0m\u001b[0;34m.\u001b[0m\u001b[0madd_var\u001b[0m\u001b[0;34m\u001b[0m\u001b[0m\n\u001b[1;32m   1421\u001b[0m         \u001b[0;32mif\u001b[0m \u001b[0mlen\u001b[0m\u001b[0;34m(\u001b[0m\u001b[0madd_var\u001b[0m\u001b[0;34m)\u001b[0m \u001b[0;34m>\u001b[0m \u001b[0;36m0\u001b[0m\u001b[0;34m:\u001b[0m\u001b[0;34m\u001b[0m\u001b[0m\n\u001b[0;32m-> 1422\u001b[0;31m             \u001b[0mself\u001b[0m\u001b[0;34m.\u001b[0m\u001b[0m_add_variables\u001b[0m\u001b[0;34m(\u001b[0m\u001b[0madd_var\u001b[0m\u001b[0;34m)\u001b[0m\u001b[0;34m\u001b[0m\u001b[0m\n\u001b[0m\u001b[1;32m   1423\u001b[0m             \u001b[0mself\u001b[0m\u001b[0;34m.\u001b[0m\u001b[0m_pending_modifications\u001b[0m\u001b[0;34m.\u001b[0m\u001b[0madd_var\u001b[0m \u001b[0;34m=\u001b[0m \u001b[0;34m[\u001b[0m\u001b[0;34m]\u001b[0m\u001b[0;34m\u001b[0m\u001b[0m\n\u001b[1;32m   1424\u001b[0m         \u001b[0mcallback\u001b[0m\u001b[0;34m(\u001b[0m\u001b[0;34m)\u001b[0m\u001b[0;34m\u001b[0m\u001b[0m\n",
      "\u001b[0;32m/usr/local/lib/python2.7/dist-packages/optlang/gurobi_interface.pyc\u001b[0m in \u001b[0;36m_add_variables\u001b[0;34m(self, variables)\u001b[0m\n\u001b[1;32m    664\u001b[0m \u001b[0;34m\u001b[0m\u001b[0m\n\u001b[1;32m    665\u001b[0m     \u001b[0;32mdef\u001b[0m \u001b[0m_add_variables\u001b[0m\u001b[0;34m(\u001b[0m\u001b[0mself\u001b[0m\u001b[0;34m,\u001b[0m \u001b[0mvariables\u001b[0m\u001b[0;34m)\u001b[0m\u001b[0;34m:\u001b[0m\u001b[0;34m\u001b[0m\u001b[0m\n\u001b[0;32m--> 666\u001b[0;31m         \u001b[0msuper\u001b[0m\u001b[0;34m(\u001b[0m\u001b[0mModel\u001b[0m\u001b[0;34m,\u001b[0m \u001b[0mself\u001b[0m\u001b[0;34m)\u001b[0m\u001b[0;34m.\u001b[0m\u001b[0m_add_variables\u001b[0m\u001b[0;34m(\u001b[0m\u001b[0mvariables\u001b[0m\u001b[0;34m)\u001b[0m\u001b[0;34m\u001b[0m\u001b[0m\n\u001b[0m\u001b[1;32m    667\u001b[0m         \u001b[0;32mfor\u001b[0m \u001b[0mvariable\u001b[0m \u001b[0;32min\u001b[0m \u001b[0mvariables\u001b[0m\u001b[0;34m:\u001b[0m\u001b[0;34m\u001b[0m\u001b[0m\n\u001b[1;32m    668\u001b[0m             \u001b[0;32mif\u001b[0m \u001b[0mvariable\u001b[0m\u001b[0;34m.\u001b[0m\u001b[0mlb\u001b[0m \u001b[0;32mis\u001b[0m \u001b[0mNone\u001b[0m\u001b[0;34m:\u001b[0m\u001b[0;34m\u001b[0m\u001b[0m\n",
      "\u001b[0;32m/usr/local/lib/python2.7/dist-packages/optlang/interface.pyc\u001b[0m in \u001b[0;36m_add_variables\u001b[0;34m(self, variables)\u001b[0m\n\u001b[1;32m   1489\u001b[0m     \u001b[0;32mdef\u001b[0m \u001b[0m_add_variables\u001b[0m\u001b[0;34m(\u001b[0m\u001b[0mself\u001b[0m\u001b[0;34m,\u001b[0m \u001b[0mvariables\u001b[0m\u001b[0;34m)\u001b[0m\u001b[0;34m:\u001b[0m\u001b[0;34m\u001b[0m\u001b[0m\n\u001b[1;32m   1490\u001b[0m         \u001b[0;32mfor\u001b[0m \u001b[0mvariable\u001b[0m \u001b[0;32min\u001b[0m \u001b[0mvariables\u001b[0m\u001b[0;34m:\u001b[0m\u001b[0;34m\u001b[0m\u001b[0m\n\u001b[0;32m-> 1491\u001b[0;31m             \u001b[0mself\u001b[0m\u001b[0;34m.\u001b[0m\u001b[0m_variables\u001b[0m\u001b[0;34m.\u001b[0m\u001b[0mappend\u001b[0m\u001b[0;34m(\u001b[0m\u001b[0mvariable\u001b[0m\u001b[0;34m)\u001b[0m\u001b[0;34m\u001b[0m\u001b[0m\n\u001b[0m\u001b[1;32m   1492\u001b[0m             \u001b[0mself\u001b[0m\u001b[0;34m.\u001b[0m\u001b[0m_variables_to_constraints_mapping\u001b[0m\u001b[0;34m[\u001b[0m\u001b[0mvariable\u001b[0m\u001b[0;34m.\u001b[0m\u001b[0mname\u001b[0m\u001b[0;34m]\u001b[0m \u001b[0;34m=\u001b[0m \u001b[0mset\u001b[0m\u001b[0;34m(\u001b[0m\u001b[0;34m[\u001b[0m\u001b[0;34m]\u001b[0m\u001b[0;34m)\u001b[0m\u001b[0;34m\u001b[0m\u001b[0m\n\u001b[1;32m   1493\u001b[0m             \u001b[0mvariable\u001b[0m\u001b[0;34m.\u001b[0m\u001b[0mproblem\u001b[0m \u001b[0;34m=\u001b[0m \u001b[0mself\u001b[0m\u001b[0;34m\u001b[0m\u001b[0m\n",
      "\u001b[0;32m/usr/local/lib/python2.7/dist-packages/optlang/container.pyc\u001b[0m in \u001b[0;36mappend\u001b[0;34m(self, value)\u001b[0m\n\u001b[1;32m    170\u001b[0m         \u001b[0mname\u001b[0m \u001b[0;34m=\u001b[0m \u001b[0mvalue\u001b[0m\u001b[0;34m.\u001b[0m\u001b[0mname\u001b[0m\u001b[0;34m\u001b[0m\u001b[0m\n\u001b[1;32m    171\u001b[0m         \u001b[0;32mif\u001b[0m \u001b[0mname\u001b[0m \u001b[0;32min\u001b[0m \u001b[0mself\u001b[0m\u001b[0;34m.\u001b[0m\u001b[0m_dict\u001b[0m\u001b[0;34m:\u001b[0m\u001b[0;34m\u001b[0m\u001b[0m\n\u001b[0;32m--> 172\u001b[0;31m             \u001b[0;32mraise\u001b[0m \u001b[0mContainerAlreadyContains\u001b[0m\u001b[0;34m(\u001b[0m\u001b[0;34m\"Container '%s' already contains an object with name '%s'.\"\u001b[0m \u001b[0;34m%\u001b[0m \u001b[0;34m(\u001b[0m\u001b[0mself\u001b[0m\u001b[0;34m,\u001b[0m \u001b[0mvalue\u001b[0m\u001b[0;34m.\u001b[0m\u001b[0mname\u001b[0m\u001b[0;34m)\u001b[0m\u001b[0;34m)\u001b[0m\u001b[0;34m\u001b[0m\u001b[0m\n\u001b[0m\u001b[1;32m    173\u001b[0m         \u001b[0mself\u001b[0m\u001b[0;34m.\u001b[0m\u001b[0m_indices\u001b[0m\u001b[0;34m[\u001b[0m\u001b[0mname\u001b[0m\u001b[0;34m]\u001b[0m \u001b[0;34m=\u001b[0m \u001b[0mlen\u001b[0m\u001b[0;34m(\u001b[0m\u001b[0mself\u001b[0m\u001b[0;34m)\u001b[0m\u001b[0;34m\u001b[0m\u001b[0m\n\u001b[1;32m    174\u001b[0m         \u001b[0mself\u001b[0m\u001b[0;34m.\u001b[0m\u001b[0m_object_list\u001b[0m\u001b[0;34m.\u001b[0m\u001b[0mappend\u001b[0m\u001b[0;34m(\u001b[0m\u001b[0mvalue\u001b[0m\u001b[0;34m)\u001b[0m\u001b[0;34m\u001b[0m\u001b[0m\n",
      "\u001b[0;31mContainerAlreadyContains\u001b[0m: Container '<optlang.container.Container object at 0x7f98e76504d0>' already contains an object with name 'geometric_fba_r_0001'."
     ]
    }
   ],
   "source": [
    "constrainedGeometricFBASol = cobra.flux_analysis.geometric_fba(constrianedModel)\n",
    "geometricFBASol = cobra.flux_analysis.geometric_fba(model)"
   ]
  },
  {
   "cell_type": "markdown",
   "metadata": {},
   "source": []
  }
 ],
 "metadata": {
  "kernelspec": {
   "display_name": "Python 2",
   "language": "python",
   "name": "python2"
  },
  "language_info": {
   "codemirror_mode": {
    "name": "ipython",
    "version": 2
   },
   "file_extension": ".py",
   "mimetype": "text/x-python",
   "name": "python",
   "nbconvert_exporter": "python",
   "pygments_lexer": "ipython2",
   "version": "2.7.12"
  }
 },
 "nbformat": 4,
 "nbformat_minor": 2
}
