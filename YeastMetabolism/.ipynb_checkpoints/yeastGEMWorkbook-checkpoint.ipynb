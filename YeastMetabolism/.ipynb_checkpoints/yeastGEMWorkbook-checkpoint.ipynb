{
 "cells": [
  {
   "cell_type": "code",
   "execution_count": 1,
   "metadata": {},
   "outputs": [],
   "source": [
    "import cobra\n",
    "from copy import deepcopy\n",
    "\n",
    "# Load model\n",
    "\n",
    "def getModel():\n",
    "    model = cobra.io.read_sbml_model('yeastGEM.xml')\n",
    "\n",
    "    # Correct metabolite ids:\n",
    "    for met in model.metabolites:\n",
    "        met.id = met.id.replace('__91__', '_')\n",
    "        met.id = met.id.replace('__93__', '')\n",
    "\n",
    "    model.solver = 'gurobi'\n",
    "    return model\n",
    "\n"
   ]
  },
  {
   "cell_type": "code",
   "execution_count": 2,
   "metadata": {},
   "outputs": [
    {
     "name": "stdout",
     "output_type": "stream",
     "text": [
      "Academic license - for non-commercial use only\n"
     ]
    }
   ],
   "source": [
    "model = getModel()"
   ]
  },
  {
   "cell_type": "code",
   "execution_count": 2,
   "metadata": {},
   "outputs": [
    {
     "name": "stdout",
     "output_type": "stream",
     "text": [
      "3949\n",
      "1133\n",
      "2680\n"
     ]
    }
   ],
   "source": [
    "print(len(model.reactions))\n",
    "print(len(model.genes))\n",
    "print(len(model.metabolites))\n"
   ]
  },
  {
   "cell_type": "code",
   "execution_count": 3,
   "metadata": {},
   "outputs": [
    {
     "name": "stdout",
     "output_type": "stream",
     "text": [
      "set(['c', 'e', 'g', 'mm', 'm', 'vm', 'ce', 'n', 'p', 'lp', 'v', 'erm', 'gm', 'er'])\n"
     ]
    }
   ],
   "source": [
    "print(model.get_metabolite_compartments())"
   ]
  },
  {
   "cell_type": "code",
   "execution_count": 4,
   "metadata": {
    "scrolled": true
   },
   "outputs": [
    {
     "name": "stdout",
     "output_type": "stream",
     "text": [
      "2680\n",
      "3949\n"
     ]
    }
   ],
   "source": [
    "SMatrix = cobra.util.array.create_stoichiometric_matrix(model,\"dense\")\n",
    "print(len(SMatrix))\n",
    "print(len(SMatrix[0]))"
   ]
  },
  {
   "cell_type": "code",
   "execution_count": 3,
   "metadata": {},
   "outputs": [
    {
     "name": "stdout",
     "output_type": "stream",
     "text": [
      "[['s_0668_e <=> s_0666_c', 'r_1147'], ['s_0668_e --> ', 'r_1757']]\n",
      "[['s_0766_e + s_0796_e --> s_0765_c + s_0794_c', 'r_1171'], ['s_0765_c --> s_0766_e', 'r_1172'], ['s_0766_e --> ', 'r_1808']]\n",
      "[['s_0458_e --> ', 'r_1672'], ['s_0458_e + s_0805_e <=> s_0446_e + s_0796_e', 'r_1668'], ['s_0456_c <=> s_0458_e', 'r_1697']]\n"
     ]
    }
   ],
   "source": [
    "print([[x.reaction, x.id] for x in model.metabolites.get_by_id(\"s_0668_e\").reactions]) #ethanol\n",
    "#print([[x.reaction, x.id] for x in model.metabolites.get_by_id(\"s_0565_e\").reactions]) #glucose\n",
    "print([[x.reaction, x.id] for x in model.metabolites.get_by_id(\"s_0766_e\").reactions]) #glycerol\n",
    "print([[x.reaction, x.id] for x in model.metabolites.get_by_id(\"s_0458_e\").reactions]) #CO2\n",
    "\n",
    "reactionsToConstrain = [list(model.metabolites.get_by_id(\"s_0668_e\").reactions)[-1],\n",
    "                       #list(model.metabolites.get_by_id(\"s_0565_e\").reactions)[-1],\n",
    "                       list(model.metabolites.get_by_id(\"s_0766_e\").reactions)[-1],\n",
    "                       list(model.metabolites.get_by_id(\"s_0458_e\").reactions)[-1]]\n"
   ]
  },
  {
   "cell_type": "code",
   "execution_count": 4,
   "metadata": {},
   "outputs": [
    {
     "name": "stdout",
     "output_type": "stream",
     "text": [
      "IN FLUXES          OUT FLUXES      OBJECTIVES\n",
      "-----------------  --------------  --------------\n",
      "s_1277_e  2.23     s_0805_e  3.91  r_2111  0.0879\n",
      "s_0565_e  1        s_0458_e  2.41\n",
      "s_0796_e  0.789\n",
      "s_0420_e  0.557\n",
      "s_1324_e  0.0231\n",
      "s_1468_e  0.00754\n",
      "        minimum   maximum\n",
      "r_1757      0.0  0.099970\n",
      "r_1808      0.0  1.582398\n",
      "r_1697      0.0  6.000000\n"
     ]
    }
   ],
   "source": [
    "model.optimize()\n",
    "fvaResult = cobra.flux_analysis.variability.flux_variability_analysis(model,reactionsToConstrain,fraction_of_optimum = 0.0,loopless=True)\n",
    "model.summary()\n",
    "print(fvaResult)"
   ]
  },
  {
   "cell_type": "code",
   "execution_count": 5,
   "metadata": {},
   "outputs": [
    {
     "name": "stdout",
     "output_type": "stream",
     "text": [
      "IN FLUXES          OUT FLUXES       OBJECTIVES\n",
      "-----------------  ---------------  --------------\n",
      "s_1277_e  1.82     s_0805_e  3.1    r_2111  0.0351\n",
      "s_0565_e  1        s_0458_e  2.5\n",
      "s_0796_e  0.916    s_0766_e  0.27\n",
      "s_0420_e  0.222    s_0668_e  0.045\n",
      "s_1324_e  0.00923\n",
      "s_1468_e  0.00301\n",
      "         minimum  maximum\n",
      "r_1757  0.045000    0.055\n",
      "r_1808  0.270000    0.330\n",
      "r_1672  0.707428    3.930\n"
     ]
    }
   ],
   "source": [
    "constrianedModel = getModel()\n",
    "\n",
    "\n",
    "reactionsToConstrain = [list(constrianedModel.metabolites.get_by_id(\"s_0668_e\").reactions)[-1],\n",
    "                       list(constrianedModel.metabolites.get_by_id(\"s_0766_e\").reactions)[-1],\n",
    "                       list(constrianedModel.metabolites.get_by_id(\"s_0458_e\").reactions)[-1]]\n",
    "outputGlycerol = . \n",
    "outputEthanol = .05\n",
    "\n",
    "constrianedModel.reactions.get_by_id('r_1757').lower_bound = outputEthanol*.9\n",
    "constrianedModel.reactions.get_by_id('r_1757').upper_bound = outputEthanol*1.1\n",
    "\n",
    "constrianedModel.reactions.get_by_id('r_1808').lower_bound = outputGlycerol*.9\n",
    "constrianedModel.reactions.get_by_id('r_1808').upper_bound = outputGlycerol*1.1\n",
    "\n",
    "\n",
    "\n",
    "constrianedModel.optimize()\n",
    "fvaResult = cobra.flux_analysis.variability.flux_variability_analysis(constrianedModel,reactionsToConstrain,\n",
    "                                                            fraction_of_optimum=0.0,loopless = True)\n",
    "\n",
    "constrianedModel.summary()\n",
    "print(fvaResult)"
   ]
  },
  {
   "cell_type": "code",
   "execution_count": 11,
   "metadata": {},
   "outputs": [
    {
     "name": "stdout",
     "output_type": "stream",
     "text": [
      "r_2005: s_1324_e <=> \n",
      "r_2005: s_1324_e <=> \n",
      "r_2005: s_1324_e <=> \n",
      "r_2005: s_1324_e <=> \n",
      "r_2005: s_1324_e <=> \n",
      "r_2005: s_1324_e <=> \n",
      "r_2005: s_1324_e <=> \n",
      "r_2005: s_1324_e <=> \n"
     ]
    }
   ],
   "source": [
    "for reaction in model.medium:\n",
    "    print model.reactions.get_by_id(\"r_2005\")\n"
   ]
  },
  {
   "cell_type": "markdown",
   "metadata": {},
   "source": []
  }
 ],
 "metadata": {
  "kernelspec": {
   "display_name": "Python 2",
   "language": "python",
   "name": "python2"
  },
  "language_info": {
   "codemirror_mode": {
    "name": "ipython",
    "version": 2
   },
   "file_extension": ".py",
   "mimetype": "text/x-python",
   "name": "python",
   "nbconvert_exporter": "python",
   "pygments_lexer": "ipython2",
   "version": "2.7.12"
  }
 },
 "nbformat": 4,
 "nbformat_minor": 2
}
