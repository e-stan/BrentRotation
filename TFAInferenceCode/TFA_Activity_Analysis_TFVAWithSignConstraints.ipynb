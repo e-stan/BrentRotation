{
 "cells": [
  {
   "cell_type": "code",
   "execution_count": 1,
   "metadata": {},
   "outputs": [],
   "source": [
    "import numpy as np\n",
    "import pickle\n",
    "from TFHelp import *\n",
    "import scipy.stats as stats\n",
    "import matplotlib.pyplot as plt\n",
    "%matplotlib inline\n",
    "import copy\n",
    "import random\n",
    "\n"
   ]
  },
  {
   "cell_type": "code",
   "execution_count": 2,
   "metadata": {
    "scrolled": true
   },
   "outputs": [],
   "source": [
    "file = open(\"TFA_CSMatrices/learnedCSvalSigned.csv\",\"r\")\n",
    "delimiter = \",\"\n",
    "CS = [[float(y) for y in x.split(delimiter)] for x in file.readlines()]\n",
    "\n",
    "#Get TFA matrix\n",
    "file = open(\"TFA_CSMatrices/learnedTFAvalSignConst.csv\",\"r\")\n",
    "TFAOriginal = [[float(y) for y in x.split(delimiter)] for x in file.readlines()]\n",
    "\n",
    "#get GE Matrix\n",
    "file = open(\"GEAll.csv\",\"r\")\n",
    "GE = [[float(y) for y in x.split(delimiter)] for x in file.readlines()]\n",
    "\n",
    "file.close()"
   ]
  },
  {
   "cell_type": "code",
   "execution_count": null,
   "metadata": {},
   "outputs": [
    {
     "name": "stdout",
     "output_type": "stream",
     "text": [
      "Academic license - for non-commercial use only\n"
     ]
    }
   ],
   "source": [
    "TFAVariable,TFVARange,TFVAQuality = TFAHelper.TFVA(CS,GE,TFAOriginal,outfile=\"TFVAResultSignConst\")"
   ]
  },
  {
   "cell_type": "code",
   "execution_count": 3,
   "metadata": {},
   "outputs": [],
   "source": [
    "TFAVariable = [[float(y) for y in x.split(delimiter)] for x in open(\"TFVAResultSignConst.csv\",\"r\").readlines()]\n",
    "TFVARange = pickle.load(open(\"TFVAResultSignConstRange.pkl\",\"rb\"))\n",
    "TFVAQuality = pickle.load(open(\"TFVAResultSignConstQuality.pkl\",\"rb\"))"
   ]
  },
  {
   "cell_type": "code",
   "execution_count": 4,
   "metadata": {},
   "outputs": [
    {
     "name": "stdout",
     "output_type": "stream",
     "text": [
      "('Number of expected kinases/phosphatases: ', 50)\n",
      "('Number of found kinases/phosphotases: ', 50)\n",
      "(45, 51)\n",
      "44\n"
     ]
    }
   ],
   "source": [
    "\n",
    "#read in matrix\n",
    "matrix = TFAVariable\n",
    "TFAHelp = TFAHelper(TFAVariable)\n",
    "\n",
    "\n",
    "#read in columns labels of gene expression file\n",
    "columnLabelFile = \"deleteome_all_mutants_controls.tsv\"\n",
    "geneExpression = open(columnLabelFile,\"r\")\n",
    "columnLabels = geneExpression.readline().split(\"\\t\")[3:]\n",
    "\n",
    "#get gene KO from column labels\n",
    "realColumnLabels = []\n",
    "perSample = 0\n",
    "for column in columnLabels:\n",
    "\tif perSample == 2:\n",
    "\t\ttry:\n",
    "\t\t\tcolumn.index(\"vs. wt\")\n",
    "\t\t\trealColumnLabels.append(str.lower(column.replace(\" vs. wt\",\"\")[:-4])) \n",
    "\t\texcept:\n",
    "\t\t\trealColumnLabels.append(str.lower(column.replace(\" vs wt\",\"\")[:-4]))\n",
    "\t\tperSample = 0 \n",
    "\telse:\n",
    "\t\tperSample += 1\n",
    "\n",
    "#get kinases/phosphotases of interest\n",
    "kinasesOfInterestFile = \"../SelectedData/finalKinasesToDetermineInteractions2.txt\"\n",
    "\n",
    "#common to systematic gene conversion dictionaries for kinases/phosphotases\n",
    "common2SystematicKinases = {x.rstrip().split(\" \")[0]:x.rstrip().split(\" \")[-1] for x in open(kinasesOfInterestFile,\"r\").readlines()[1:]}\n",
    "systematic2commonKinases = {value:key for key,value in common2SystematicKinases.items()}\n",
    "\n",
    "\n",
    "columnsOfInterest = []\n",
    "columnsOfInterestNames = []\n",
    "for x in range(len(realColumnLabels)):\n",
    "\tif realColumnLabels[x] in common2SystematicKinases or realColumnLabels[x] in systematic2commonKinases:\n",
    "\t\tcolumnsOfInterest.append(x)\n",
    "\t\tif realColumnLabels[x] in common2SystematicKinases: \n",
    "\t\t\tcolumnsOfInterestNames.append(common2SystematicKinases[realColumnLabels[x]])\n",
    "\t\telse:\n",
    "\t\t\tcolumnsOfInterestNames.append(realColumnLabels[x])\n",
    "\n",
    "#confirm the correct number of columns are found \n",
    "print(\"Number of expected kinases/phosphatases: \",len(common2SystematicKinases))\n",
    "print(\"Number of found kinases/phosphotases: \" ,len(columnsOfInterestNames))\n",
    "\n",
    "#add WT TFA to matrix of interest and generate matrix\n",
    "columnsOfInterestNames.append(\"wt\")\n",
    "wt = [matrix[row][-1] for row in range(len(matrix))] \n",
    "matrix = [[matrix[row][col] for col in columnsOfInterest]+[wt[row]] for row in range(len(matrix)-1)]\n",
    "\n",
    "#append pseudoTF \n",
    "matrix.append([1 for _ in range(len(matrix[0]))])\n",
    "\n",
    "#validate matrix dimensions, should be (45,52)\n",
    "print(len(matrix),len(matrix[0]))\n",
    "\n",
    "#output relevant matrix \n",
    "TFAHelp.writeMatrix2csv(matrix,open(\"TFAFoundMatrix.csv\",\"w\"))\n",
    "\n",
    "#write kinase column names\n",
    "file = open(\"kinaseNamesForColumns\",\"w\")\n",
    "[file.write(kinase+\"\\n\") for kinase in columnsOfInterestNames]\n",
    "file.close()\n",
    "\n",
    "#get row labels for matrix\n",
    "rowLabelFile = \"TFListZev.csv\"\n",
    "TFs = [str.lower(x.rstrip())[1:-1] for x in open(rowLabelFile,\"r\").readlines()]\n",
    "print(len(TFs)) #should be 44\n"
   ]
  },
  {
   "cell_type": "code",
   "execution_count": 6,
   "metadata": {},
   "outputs": [
    {
     "name": "stdout",
     "output_type": "stream",
     "text": [
      "58\n",
      "yhr025w\n",
      "ynl307c\n",
      "yfr014c\n",
      "yfr040w\n",
      "yhr079c\n",
      "ydl101c\n",
      "yer123w\n",
      "ypl031c\n",
      "ygl019w\n",
      "yar018c\n",
      "yer177w\n",
      "yjl128c\n",
      "ymr139w\n",
      "ydr074w\n",
      "ygl252c\n",
      "yil035c\n",
      "ynr032w\n",
      "yor014w\n",
      "ykl048c\n",
      "ypr119w\n",
      "yml036w\n",
      "ylr362w\n",
      "ypl256c\n",
      "yjl095w\n",
      "ygr123c\n",
      "ybl103c\n",
      "ynl076w\n",
      "yfr019w\n",
      "ygr108w\n",
      "yer059w\n",
      "yol016c\n",
      "ymr036c\n",
      "yhr084w\n",
      "ydl159w\n",
      "ydl047w\n",
      "yal040c\n",
      "ykl166c\n",
      "yhr030c\n",
      "ylr006c\n",
      "ydl006w\n",
      "ykl139w\n",
      "ydr477w\n",
      "yol001w\n",
      "ybr125c\n",
      "ybr097w\n",
      "ymr216c\n",
      "ycr008w\n",
      "ybr095c\n",
      "yml016c\n",
      "ypl219w\n",
      "yir026c\n",
      "yjr090c\n",
      "ypl180w\n",
      "yor061w\n",
      "yer075c\n",
      "yll013c\n",
      "ygr097w\n",
      "ybr274w\n",
      "ybl088c\n",
      "ypl140c\n",
      "ydl042c\n",
      "ybl016w\n",
      "ynr031c\n",
      "yhr082c\n",
      "ycr091w\n",
      "ynl099c\n",
      "ynl053w\n",
      "ykl168c\n",
      "ynl298w\n",
      "yhl007c\n",
      "yjr059w\n",
      "ylr260w\n",
      "ylr113w\n",
      "yfl033c\n",
      "ypr120c\n",
      "76\n"
     ]
    }
   ],
   "source": [
    "#get expected interactions\n",
    "expectedResults = [x.rstrip().split()[:3] for x in open(\"../SelectedData/kinaseTFInteractionsWQuantititation.txt\",\"r\").readlines()]\n",
    "expectedResults = [[kinase+\"_\"+tf,score] for kinase,tf,score in expectedResults]\n",
    "interactions = {x[0]:-1 for x in expectedResults}\n",
    "for inter,score in expectedResults:\n",
    "    if score == \"BG:\": score = 2.0 #set biogrid scores to log liklihood of 2.0\n",
    "    interactions[inter] = float(score)\n",
    "print(len(interactions))\n",
    "#load gene expression\n",
    "geneExpression = pickle.load(open(\"../SelectedData/geneExpressionForKinaseOfInterest.pkl\",\"rb\"))\n",
    "geneExpression2 = {}\n",
    "for key,value in geneExpression.items():\n",
    "    if key in TFAHelp.common2SystematicName:\n",
    "        geneExpression2[TFAHelp.common2SystematicName[key]] = value\n",
    "    elif key in TFAHelp.systematic2Common:\n",
    "        geneExpression2[key] = value\n",
    "    else:\n",
    "        print(\"err\",key)\n",
    "geneExpression = geneExpression2\n",
    "for kinase in geneExpression:\n",
    "    for type in geneExpression[kinase]:\n",
    "        geneExpression2 = {}\n",
    "        for key,value in geneExpression[kinase][type].items():\n",
    "            if key in TFAHelp.common2SystematicName:\n",
    "                geneExpression2[TFAHelp.common2SystematicName[key]] = value\n",
    "            elif key in TFAHelp.systematic2Common:\n",
    "                geneExpression2[key] = value\n",
    "    try: \n",
    "        geneExpression[kinase][\"expression\"][kinase]\n",
    "        geneExpression[kinase][type] = dict(geneExpression2)\n",
    "    except: \n",
    "        print kinase\n",
    "print(len(geneExpression))\n",
    "kinases = list(columnsOfInterestNames)"
   ]
  },
  {
   "cell_type": "code",
   "execution_count": 5,
   "metadata": {},
   "outputs": [
    {
     "ename": "NameError",
     "evalue": "name 'expectedResults' is not defined",
     "output_type": "error",
     "traceback": [
      "\u001b[0;31m---------------------------------------------------------------------------\u001b[0m",
      "\u001b[0;31mNameError\u001b[0m                                 Traceback (most recent call last)",
      "\u001b[0;32m<ipython-input-5-ffcdfdf774ef>\u001b[0m in \u001b[0;36m<module>\u001b[0;34m()\u001b[0m\n\u001b[1;32m      4\u001b[0m \u001b[0;34m\u001b[0m\u001b[0m\n\u001b[1;32m      5\u001b[0m \u001b[0;31m#match interactions\u001b[0m\u001b[0;34m\u001b[0m\u001b[0;34m\u001b[0m\u001b[0m\n\u001b[0;32m----> 6\u001b[0;31m \u001b[0minteractionsFound\u001b[0m \u001b[0;34m=\u001b[0m \u001b[0;34m{\u001b[0m\u001b[0mx\u001b[0m\u001b[0;34m[\u001b[0m\u001b[0;36m0\u001b[0m\u001b[0;34m]\u001b[0m\u001b[0;34m:\u001b[0m\u001b[0;34m-\u001b[0m\u001b[0;36m1\u001b[0m \u001b[0;32mfor\u001b[0m \u001b[0mx\u001b[0m \u001b[0;32min\u001b[0m \u001b[0mexpectedResults\u001b[0m\u001b[0;34m}\u001b[0m\u001b[0;34m\u001b[0m\u001b[0m\n\u001b[0m\u001b[1;32m      7\u001b[0m \u001b[0;32mfor\u001b[0m \u001b[0mtf\u001b[0m \u001b[0;32min\u001b[0m \u001b[0mrange\u001b[0m\u001b[0;34m(\u001b[0m\u001b[0mlen\u001b[0m\u001b[0;34m(\u001b[0m\u001b[0mnormalizedMatrix\u001b[0m\u001b[0;34m)\u001b[0m\u001b[0;34m-\u001b[0m\u001b[0;36m1\u001b[0m\u001b[0;34m)\u001b[0m\u001b[0;34m:\u001b[0m\u001b[0;34m\u001b[0m\u001b[0m\n\u001b[1;32m      8\u001b[0m     \u001b[0;32mfor\u001b[0m \u001b[0mkinase\u001b[0m \u001b[0;32min\u001b[0m \u001b[0mrange\u001b[0m\u001b[0;34m(\u001b[0m\u001b[0mlen\u001b[0m\u001b[0;34m(\u001b[0m\u001b[0mnormalizedMatrix\u001b[0m\u001b[0;34m[\u001b[0m\u001b[0mtf\u001b[0m\u001b[0;34m]\u001b[0m\u001b[0;34m)\u001b[0m\u001b[0;34m)\u001b[0m\u001b[0;34m:\u001b[0m\u001b[0;34m\u001b[0m\u001b[0m\n",
      "\u001b[0;31mNameError\u001b[0m: name 'expectedResults' is not defined"
     ]
    }
   ],
   "source": [
    "#transform matrix\n",
    "\n",
    "normalizedMatrix  = TFAHelp.standardScore(matrix[:-1])\n",
    "\n",
    "#match interactions\n",
    "interactionsFound = {x[0]:-1 for x in expectedResults}\n",
    "for tf in range(len(normalizedMatrix)-1):\n",
    "    for kinase in range(len(normalizedMatrix[tf])):\n",
    "        if kinases[kinase]+\"_\"+TFs[tf] in interactions:\n",
    "            interactionsFound[kinases[kinase]+\"_\"+TFs[tf]] = normalizedMatrix[tf][kinase]\n",
    "\n",
    "allInteractions = TFAHelp.flatten(TFAHelp.standardScore(TFAHelp.TFAWholeMatrix[:-1]))\n",
    "pvalsInteractionsFound = TFAHelp.getPValuesForInteractions(interactionsFound,allInteractions)\n",
    "        \n",
    "alpha = .05 #fixed to find signfificance #.16 finds 2 significant \n",
    "\n",
    "uniqueInteractions = [inter for inter in interactions]\n",
    "\n",
    "significantFoundInteractions,insignificantInteractions = TFAHelp.catagorizeInteractionsForSignificance(alpha,pvalsInteractionsFound)\n",
    "print(significantFoundInteractions)\n",
    "\n",
    "\n",
    "plt.scatter([interactions[inter] for inter in significantFoundInteractions],[interactionsFound[inter] for inter in significantFoundInteractions],c = \"b\",label = \"Significant\")\n",
    "plt.scatter([interactions[inter] for inter in insignificantInteractions],[interactionsFound[inter] for inter in insignificantInteractions],c=\"r\",label = \"Insignficiant\")\n",
    "plt.legend()\n",
    "expectedInteractionLogScores = [interactions[inter] for inter in uniqueInteractions]\n",
    "minLogScore = int(min(expectedInteractionLogScores))\n",
    "maxLogScore = int(max(expectedInteractionLogScores)+1)\n",
    "\n",
    "allInteractions.sort(reverse=True)\n",
    "scoreCutoffHigh = allInteractions[int(np.floor((alpha/2)*len(allInteractions)))]\n",
    "scoreCutoffLow = allInteractions[-1*int(np.ceil((alpha/2)*len(allInteractions)))]\n",
    "\n",
    "print(\"Number of Found Significant Interactions: \",len(uniqueInteractions),len(significantFoundInteractions),\"; alpha = \",alpha,scoreCutoffLow,scoreCutoffHigh)\n",
    "\n",
    "\n",
    "plt.plot([x for x in range(minLogScore,maxLogScore)],[scoreCutoffHigh for _ in range(minLogScore,maxLogScore)],c=\"black\")\n",
    "plt.plot([x for x in range(minLogScore,maxLogScore)],[scoreCutoffLow for _ in range(minLogScore,maxLogScore)],c=\"black\")\n",
    "\n",
    "plt.xlabel(\"Experimentally Validated Log Likelihood Score\")\n",
    "plt.ylabel(\"Standard Activity Score ((x-Mean[X])/Std[X])\") \n",
    "\n",
    "\n",
    "GEImpact = {inter:-1 for inter in uniqueInteractions}\n",
    "xvals = []\n",
    "yvals = []\n",
    "for inter in uniqueInteractions:\n",
    "\tkinase = inter.split(\"_\")[0]\n",
    "\tallScoresForKinase = [geneExpression[kinase2][\"expression\"][kinase] for kinase2 in geneExpression]\n",
    "\tkianseStdScore = (geneExpression[kinase][\"expression\"][kinase] - np.mean(allScoresForKinase))/np.std(allScoresForKinase)\n",
    "\tGEImpact[inter] = kianseStdScore\n",
    "\txvals.append(abs(kianseStdScore))\n",
    "\tyvals.append(abs(interactionsFound[inter]))\n",
    "\n",
    "plt.figure()\n",
    "plt.scatter([abs(GEImpact[inter]) for inter in significantFoundInteractions],[abs(interactionsFound[inter]) for inter in significantFoundInteractions],c = \"b\",label = \"Significant\")\n",
    "plt.scatter([abs(GEImpact[inter]) for inter in insignificantInteractions],[abs(interactionsFound[inter]) for inter in insignificantInteractions],c=\"r\",label = \"Insignficiant\")\n",
    "plt.legend()\n",
    "plt.xlabel(\"Absolute Value of Standard Score for Kinase/Phosphotase Expression\")\n",
    "plt.ylabel(\"Absolute Value of Standard Score for TFA\")\n",
    "\n",
    "positions = range(len(xvals))\n",
    "positions.sort(key=lambda x: xvals[x])\n",
    "xvals = [xvals[x] for x in positions]\n",
    "yvals = [yvals[x] for x in positions]\n",
    "slope,intercept,r,pvalue,_ = stats.linregress(xvals, yvals)\n",
    "plt.plot(xvals,[x*slope+intercept for x in xvals],\"r-\")\n",
    "print(r**2,pvalue)\n"
   ]
  },
  {
   "cell_type": "code",
   "execution_count": 18,
   "metadata": {
    "scrolled": false
   },
   "outputs": [
    {
     "name": "stdout",
     "output_type": "stream",
     "text": [
      "['yor061w_ykl185w', 'ykl139w_ykl185w', 'ykl139w_yjl056c', 'ypl031c_ykl185w', 'ykl139w_ylr403w']\n",
      "('Number of Found Significant Interactions: ', 101, 5, '; alpha = ', 0.05, 0.17390861176305084)\n",
      "(0.0, nan)\n"
     ]
    },
    {
     "name": "stderr",
     "output_type": "stream",
     "text": [
      "/home/mblab/.local/lib/python2.7/site-packages/scipy/stats/_stats_mstats_common.py:107: RuntimeWarning: invalid value encountered in double_scalars\n",
      "  slope = r_num / ssxm\n",
      "/home/mblab/.local/lib/python2.7/site-packages/scipy/stats/_stats_mstats_common.py:117: RuntimeWarning: invalid value encountered in sqrt\n",
      "  t = r * np.sqrt(df / ((1.0 - r + TINY)*(1.0 + r + TINY)))\n",
      "/home/mblab/.local/lib/python2.7/site-packages/scipy/stats/_stats_mstats_common.py:119: RuntimeWarning: invalid value encountered in double_scalars\n",
      "  sterrest = np.sqrt((1 - r**2) * ssym / ssxm / df)\n"
     ]
    },
    {
     "data": {
      "image/png": "[encoded data removed]",
      "text/plain": [
       "<Figure size 432x288 with 1 Axes>"
      ]
     },
     "metadata": {
      "needs_background": "light"
     },
     "output_type": "display_data"
    },
    {
     "data": {
      "image/png": "[encoded data removed]",
      "text/plain": [
       "<Figure size 432x288 with 1 Axes>"
      ]
     },
     "metadata": {
      "needs_background": "light"
     },
     "output_type": "display_data"
    }
   ],
   "source": [
    "normalizedMatrix  = TFAHelp.absoluteLog2FoldChange(matrix)\n",
    "\n",
    "outfile = open(\"kinaseTFInteractionLog2FoldChangeTFA.csv\",\"w\")\n",
    "#match interactions\n",
    "interactionsFound = {x[0]:-1 for x in expectedResults}\n",
    "for tf in range(len(normalizedMatrix)-1):\n",
    "    for kinase in range(len(normalizedMatrix[tf])):\n",
    "        if kinases[kinase]+\"_\"+TFs[tf] in interactions:\n",
    "            interactionsFound[kinases[kinase]+\"_\"+TFs[tf]] = normalizedMatrix[tf][kinase]\n",
    "            outfile.write(kinases[kinase]+\",\"+TFs[tf]+\",\"+TFAHelp.systematic2Common[kinases[kinase]]+\n",
    "                          \",\"+TFAHelp.systematic2Common[TFs[tf]]+\",\"+str(normalizedMatrix[tf][kinase])+\n",
    "                          \"\\n\")\n",
    "outfile.close()\n",
    "allInteractions = TFAHelp.flatten(TFAHelp.absoluteLog2FoldChange(TFAHelp.TFAWholeMatrix[:-1]))\n",
    "pvalsInteractionsFound = TFAHelp.getPValuesForInteractions(interactionsFound,allInteractions)\n",
    "        \n",
    "alpha = .05 #fixed to find signfificance\n",
    "\n",
    "uniqueInteractions = [inter for inter in interactions]\n",
    "\n",
    "significantFoundInteractions,insignificantInteractions = TFAHelp.catagorizeInteractionsForSignificance(alpha,pvalsInteractionsFound,False)\n",
    "print(significantFoundInteractions)\n",
    "\n",
    "\n",
    "plt.scatter([interactions[inter] for inter in significantFoundInteractions],[interactionsFound[inter] for inter in significantFoundInteractions],c = \"b\",label = \"Significant\")\n",
    "plt.scatter([interactions[inter] for inter in insignificantInteractions],[interactionsFound[inter] for inter in insignificantInteractions],c=\"r\",label = \"Insignficiant\")\n",
    "plt.legend()\n",
    "expectedInteractionLogScores = [interactions[inter] for inter in uniqueInteractions]\n",
    "minLogScore = int(min(expectedInteractionLogScores))\n",
    "maxLogScore = int(max(expectedInteractionLogScores)+1)\n",
    "\n",
    "allInteractions.sort(reverse=True)\n",
    "scoreCutoffHigh = allInteractions[int(np.floor((alpha)*len(allInteractions)))]\n",
    "\n",
    "print(\"Number of Found Significant Interactions: \",len(uniqueInteractions),len(significantFoundInteractions),\"; alpha = \",alpha,scoreCutoffHigh)\n",
    "\n",
    "\n",
    "plt.plot([x for x in range(minLogScore,maxLogScore)],[scoreCutoffHigh for _ in range(minLogScore,maxLogScore)],c=\"black\")\n",
    "\n",
    "plt.xlabel(\"Experimentally Validated Log Likelihood Score\")\n",
    "plt.ylabel(\"Absolute Log2 Fold Change of TF Activity Relative to WT\") \n",
    "\n",
    "\n",
    "GEImpact = {inter:-1 for inter in uniqueInteractions}\n",
    "xvals = []\n",
    "yvals = []\n",
    "for inter in uniqueInteractions:\n",
    "    kinase = inter.split(\"_\")[0]\n",
    "    try:\n",
    "        kianseStdScore = np.abs(geneExpression[kinase][\"ratio\"][kinase])\n",
    "        GEImpact[inter] = kianseStdScore\n",
    "        xvals.append(abs(kianseStdScore))\n",
    "        yvals.append(abs(interactionsFound[inter]))\n",
    "    except:\n",
    "        pass\n",
    "\n",
    "plt.figure()\n",
    "plt.scatter([abs(GEImpact[inter]) for inter in significantFoundInteractions],[abs(interactionsFound[inter]) for inter in significantFoundInteractions],c = \"b\",label = \"Significant\")\n",
    "plt.scatter([abs(GEImpact[inter]) for inter in insignificantInteractions],[abs(interactionsFound[inter]) for inter in insignificantInteractions],c=\"r\",label = \"Insignficiant\")\n",
    "plt.legend()\n",
    "plt.xlabel(\"Absolute Value of Log2 Fold Change of Kinase/Phosphotase Expression\")\n",
    "plt.ylabel(\"Absolute Value of  Log2 Fold Change of TFA\")\n",
    "\n",
    "\n",
    "\n",
    "positions = range(len(xvals))\n",
    "positions.sort(key=lambda x: xvals[x])\n",
    "xvals = [xvals[x] for x in positions]\n",
    "yvals = [yvals[x] for x in positions]\n",
    "slope,intercept,r,pvalue,_ = stats.linregress(xvals, yvals)\n",
    "plt.plot(xvals,[x*slope+intercept for x in xvals],\"r-\")\n",
    "print(r**2,pvalue)"
   ]
  },
  {
   "cell_type": "code",
   "execution_count": 6,
   "metadata": {},
   "outputs": [
    {
     "name": "stdout",
     "output_type": "stream",
     "text": [
      "0.975113636364\n"
     ]
    },
    {
     "data": {
      "text/plain": [
       "<matplotlib.collections.PathCollection at 0x1f27bcc0>"
      ]
     },
     "execution_count": 6,
     "metadata": {},
     "output_type": "execute_result"
    },
    {
     "data": {
      "image/png": "[encoded data removed]",
      "text/plain": [
       "<matplotlib.figure.Figure at 0x1e5fb5f8>"
      ]
     },
     "metadata": {
      "needs_background": "light"
     },
     "output_type": "display_data"
    }
   ],
   "source": [
    "#Determine best Possible AUC\n",
    "bestPossibleMatrix = copy.deepcopy(matrix)\n",
    "maxScore = max(TFAHelp.flatten(TFAHelp.absoluteLog2FoldChange(bestPossibleMatrix)))\n",
    "for tf in range(len(bestPossibleMatrix)-1):\n",
    "    for kinase in range(len(bestPossibleMatrix[tf])):\n",
    "        if kinases[kinase]+\"_\"+TFs[tf] in interactions:\n",
    "            bestPossibleMatrix[tf][kinase] = bestPossibleMatrix[tf][-1]*((2**maxScore))+1\n",
    "normalizedMatrix = TFAHelp.rankingChange(bestPossibleMatrix)\n",
    "interactionsFound = {}\n",
    "\n",
    "for tf in range(len(normalizedMatrix)-1):\n",
    "    for kinase in range(len(normalizedMatrix[tf])):\n",
    "        if kinases[kinase]+\"_\"+TFs[tf] in interactions:\n",
    "            interactionsFound[kinases[kinase]+\"_\"+TFs[tf]] = normalizedMatrix[tf][kinase]\n",
    "                                                                                 \n",
    "plt.figure()\n",
    "\n",
    "xcoords,ycoords = TFAHelp.expectedInteractionFallInRankingLevel(interactionsFound,len(normalizedMatrix))\n",
    "AUC = np.trapz(ycoords,dx = 1.0/(len(xcoords)-1))\n",
    "print(AUC)\n",
    "\n",
    "plt.scatter(xcoords,ycoords,c=\"b\")"
   ]
  },
  {
   "cell_type": "code",
   "execution_count": 7,
   "metadata": {
    "scrolled": false
   },
   "outputs": [
    {
     "ename": "KeyError",
     "evalue": "'ykl139w'",
     "output_type": "error",
     "traceback": [
      "\u001b[0;31m---------------------------------------------------------------------------\u001b[0m",
      "\u001b[0;31mKeyError\u001b[0m                                  Traceback (most recent call last)",
      "\u001b[0;32m<ipython-input-7-986b189915f2>\u001b[0m in \u001b[0;36m<module>\u001b[0;34m()\u001b[0m\n\u001b[1;32m     15\u001b[0m \u001b[0;32mfor\u001b[0m \u001b[0minter\u001b[0m \u001b[0;32min\u001b[0m \u001b[0minteractionsFound\u001b[0m\u001b[0;34m:\u001b[0m\u001b[0;34m\u001b[0m\u001b[0m\n\u001b[1;32m     16\u001b[0m         \u001b[0mkinase\u001b[0m \u001b[0;34m=\u001b[0m \u001b[0minter\u001b[0m\u001b[0;34m.\u001b[0m\u001b[0msplit\u001b[0m\u001b[0;34m(\u001b[0m\u001b[0;34m\"_\"\u001b[0m\u001b[0;34m)\u001b[0m\u001b[0;34m[\u001b[0m\u001b[0;36m0\u001b[0m\u001b[0;34m]\u001b[0m\u001b[0;34m\u001b[0m\u001b[0m\n\u001b[0;32m---> 17\u001b[0;31m         \u001b[0mkianseStdScore\u001b[0m \u001b[0;34m=\u001b[0m \u001b[0mnp\u001b[0m\u001b[0;34m.\u001b[0m\u001b[0mabs\u001b[0m\u001b[0;34m(\u001b[0m\u001b[0mgeneExpression\u001b[0m\u001b[0;34m[\u001b[0m\u001b[0mkinase\u001b[0m\u001b[0;34m]\u001b[0m\u001b[0;34m[\u001b[0m\u001b[0;34m\"ratio\"\u001b[0m\u001b[0;34m]\u001b[0m\u001b[0;34m[\u001b[0m\u001b[0mkinase\u001b[0m\u001b[0;34m]\u001b[0m\u001b[0;34m)\u001b[0m\u001b[0;34m\u001b[0m\u001b[0m\n\u001b[0m\u001b[1;32m     18\u001b[0m         \u001b[0mGEImpact\u001b[0m\u001b[0;34m[\u001b[0m\u001b[0minter\u001b[0m\u001b[0;34m]\u001b[0m \u001b[0;34m=\u001b[0m \u001b[0mkianseStdScore\u001b[0m\u001b[0;34m\u001b[0m\u001b[0m\n\u001b[1;32m     19\u001b[0m         \u001b[0mxvals\u001b[0m\u001b[0;34m.\u001b[0m\u001b[0mappend\u001b[0m\u001b[0;34m(\u001b[0m\u001b[0mabs\u001b[0m\u001b[0;34m(\u001b[0m\u001b[0mkianseStdScore\u001b[0m\u001b[0;34m)\u001b[0m\u001b[0;34m)\u001b[0m\u001b[0;34m\u001b[0m\u001b[0m\n",
      "\u001b[0;31mKeyError\u001b[0m: 'ykl139w'"
     ]
    }
   ],
   "source": [
    "normalizedMatrix  = TFAHelp.rankingChange(matrix)[:-1]\n",
    "\n",
    "#match interactions\n",
    "interactionsFound = {}\n",
    "bestPossibleInteractionsFound = {}\n",
    "for tf in range(len(normalizedMatrix)-1):\n",
    "    for kinase in range(len(normalizedMatrix[tf])):\n",
    "        if kinases[kinase]+\"_\"+TFs[tf] in interactions:\n",
    "            interactionsFound[kinases[kinase]+\"_\"+TFs[tf]] = normalizedMatrix[tf][kinase]\n",
    "uniqueInteractions = [inter for inter in interactions]\n",
    "\n",
    "GEImpact = {inter:-1 for inter in uniqueInteractions}\n",
    "xvals = []\n",
    "yvals = []\n",
    "for inter in interactionsFound:\n",
    "\tkinase = inter.split(\"_\")[0]\n",
    "\tkianseStdScore = np.abs(geneExpression[kinase][\"ratio\"][kinase])\n",
    "\tGEImpact[inter] = kianseStdScore\n",
    "\txvals.append(abs(kianseStdScore))\n",
    "\tyvals.append(abs(interactionsFound[inter]))\n",
    "\n",
    "plt.figure()\n",
    "plt.scatter([abs(GEImpact[inter]) for inter in interactionsFound],[abs(interactionsFound[inter]) for inter in interactionsFound])\n",
    "plt.xlabel(\"Absolute Value of Log2 Fold Change of Kinase/Phosphotase Expression\")\n",
    "plt.ylabel(\"Ranking of TFA Log2FC Relative to WT Within Condition\")\n",
    "\n",
    "positions = range(len(xvals))\n",
    "positions.sort(key=lambda x: xvals[x])\n",
    "xvals = [xvals[x] for x in positions]\n",
    "yvals = [yvals[x] for x in positions]\n",
    "slope,intercept,r,pvalue,_ = stats.linregress(xvals, yvals)\n",
    "plt.plot(xvals,[x*slope+intercept for x in xvals],\"r-\")\n",
    "print(r**2,pvalue)\n",
    "\n",
    "###Generate Random Matrices to find Results:\n",
    "\n",
    "plt.figure()\n",
    "\n",
    "xcoords,ycoords = TFAHelp.expectedInteractionFallInRankingLevel(interactionsFound,len(normalizedMatrix)-1)\n",
    "AUC = np.trapz(ycoords,dx = 1.0/(len(xcoords)-1))\n",
    "\n",
    "plt.scatter(xcoords,ycoords,c=\"b\")\n",
    "\n",
    "\n",
    "nsims = 1000\n",
    "allxCoords = []\n",
    "allyCoords = []\n",
    "AUCs = []\n",
    "for _ in range(nsims):\n",
    "    tempMat = TFAHelp.generateRandomMatrix([row[:-1] for row in matrix])\n",
    "    tempMat = [tempMat[row] + [matrix[row][-1]] for row in range(len(tempMat))]\n",
    "    tempNormMat = TFAHelp.rankingChange(tempMat)\n",
    "    tempinteractionsFound = {x[0]:-1 for x in expectedResults}\n",
    "    for tf in range(len(normalizedMatrix)-1):\n",
    "        for kinase in range(len(normalizedMatrix[tf])):\n",
    "            if kinases[kinase]+\"_\"+TFs[tf] in interactions:\n",
    "                tempinteractionsFound[kinases[kinase]+\"_\"+TFs[tf]] = tempNormMat[tf][kinase]\n",
    "    xcoords,ycoords = TFAHelp.expectedInteractionFallInRankingLevel(tempinteractionsFound,len(normalizedMatrix)-1)\n",
    "    AUCs.append(np.trapz(ycoords,dx = 1.0/(len(xcoords)-1)))\n",
    "    allxCoords.append(xcoords)\n",
    "    allyCoords.append(ycoords)\n",
    "\n",
    "AUCs.sort(reverse=True)\n",
    "index = 0\n",
    "for val in AUCs:\n",
    "    if AUC > val:\n",
    "        index -= 1\n",
    "        break\n",
    "    index+=1\n",
    "percentile = float(index)/len(AUCs)\n",
    "\n",
    "print(AUC,percentile)\n",
    "    \n",
    "plt.errorbar(x = xcoords,y = np.mean(allyCoords,axis = 0),\n",
    "             yerr = np.std(allyCoords,axis=0))\n",
    "    \n",
    "plt.xlabel(\"Percent of Total # of TFs sorted by Change in Activity\")\n",
    "plt.ylabel(\"Percent of TFs with known interactions\")\n",
    "\n",
    "\n"
   ]
  },
  {
   "cell_type": "code",
   "execution_count": 10,
   "metadata": {
    "scrolled": true
   },
   "outputs": [
    {
     "name": "stderr",
     "output_type": "stream",
     "text": [
      "TFHelp.py:307: RuntimeWarning: invalid value encountered in double_scalars\n",
      "  tempMat[x] = [(val-tempMin)/tempMax for val in tempMat[x]]\n"
     ]
    },
    {
     "name": "stdout",
     "output_type": "stream",
     "text": [
      "0.9999999999999998\n",
      "(0.15115440115440115, 0.968)\n"
     ]
    },
    {
     "data": {
      "text/plain": [
       "Text(0,0.5,'Percent of TFs with known interactions')"
      ]
     },
     "execution_count": 10,
     "metadata": {},
     "output_type": "execute_result"
    },
    {
     "data": {
      "image/png": "[encoded data removed]",
      "text/plain": [
       "<Figure size 432x288 with 1 Axes>"
      ]
     },
     "metadata": {
      "needs_background": "light"
     },
     "output_type": "display_data"
    }
   ],
   "source": [
    "bestPossibleMatrix = copy.deepcopy(matrix)\n",
    "maxScore = max(TFAHelp.flatten(TFAHelp.absoluteLog2FoldChange(bestPossibleMatrix)))\n",
    "for tf in range(len(bestPossibleMatrix)-1):\n",
    "    for kinase in range(len(bestPossibleMatrix[tf])):\n",
    "        if kinases[kinase]+\"_\"+TFs[tf] in interactions:\n",
    "            bestPossibleMatrix[tf][kinase] = bestPossibleMatrix[tf][-1]*((2**maxScore))\n",
    "normalizedMatrix = TFAHelp.rankingChangePercentile(bestPossibleMatrix)\n",
    "interactionsFound = {}\n",
    "\n",
    "for tf in range(len(normalizedMatrix)-1):\n",
    "    for kinase in range(len(normalizedMatrix[tf])):\n",
    "        if kinases[kinase]+\"_\"+TFs[tf] in interactions:\n",
    "            interactionsFound[kinases[kinase]+\"_\"+TFs[tf]] = normalizedMatrix[tf][kinase]\n",
    "                                                                                 \n",
    "plt.figure()\n",
    "\n",
    "xcoords,ycoords = TFAHelp.expectedInteractionFallInPercentileLevel(interactionsFound)\n",
    "AUC = np.trapz(ycoords,dx = 1.0/(len(xcoords)-1))\n",
    "print(AUC)\n",
    "\n",
    "plt.scatter(xcoords,ycoords,c=\"orange\")\n",
    "\n",
    "\n",
    "\n",
    "normalizedMatrix  = TFAHelp.rankingChangePercentile(matrix)[:-1]\n",
    "\n",
    "#match interactions\n",
    "interactionsFound = {}\n",
    "bestPossibleInteractionsFound = {}\n",
    "for tf in range(len(normalizedMatrix)-1):\n",
    "    for kinase in range(len(normalizedMatrix[tf])):\n",
    "        if kinases[kinase]+\"_\"+TFs[tf] in interactions:\n",
    "            interactionsFound[kinases[kinase]+\"_\"+TFs[tf]] = normalizedMatrix[tf][kinase]\n",
    "\n",
    "###Generate Random Matrices to find Results:\n",
    "\n",
    "xcoords,ycoords = TFAHelp.expectedInteractionFallInPercentileLevel(interactionsFound)\n",
    "AUC = np.trapz(ycoords,dx = 1.0/(len(xcoords)-1))\n",
    "\n",
    "plt.scatter(xcoords,ycoords,c=\"b\")\n",
    "\n",
    "\n",
    "nsims = 1000\n",
    "allxCoords = []\n",
    "allyCoords = []\n",
    "AUCs = []\n",
    "for _ in range(nsims):\n",
    "    tempMat = TFAHelp.generateRandomMatrix([row[:-1] for row in matrix])\n",
    "    tempMat = [tempMat[row] + [matrix[row][-1]] for row in range(len(tempMat))]\n",
    "    tempNormMat = TFAHelp.rankingChangePercentile(tempMat)\n",
    "    tempinteractionsFound = {x[0]:-1 for x in expectedResults}\n",
    "    for tf in range(len(normalizedMatrix)-1):\n",
    "        for kinase in range(len(normalizedMatrix[tf])):\n",
    "            if kinases[kinase]+\"_\"+TFs[tf] in interactions:\n",
    "                tempinteractionsFound[kinases[kinase]+\"_\"+TFs[tf]] = tempNormMat[tf][kinase]\n",
    "    xcoords,ycoords = TFAHelp.expectedInteractionFallInPercentileLevel(tempinteractionsFound)\n",
    "    AUCs.append(np.trapz(ycoords,dx = 1.0/(len(xcoords)-1)))\n",
    "    allxCoords.append(xcoords)\n",
    "    allyCoords.append(ycoords)\n",
    "\n",
    "AUCs.sort(reverse=True)\n",
    "index = 0\n",
    "for val in AUCs:\n",
    "    if AUC > val:\n",
    "        index -= 1\n",
    "        break\n",
    "    index+=1\n",
    "percentile = float(index)/len(AUCs)\n",
    "\n",
    "print(AUC,percentile)\n",
    "    \n",
    "plt.errorbar(x = xcoords,y = np.mean(allyCoords,axis = 0),\n",
    "             yerr = np.std(allyCoords,axis=0))\n",
    "    \n",
    "plt.xlabel(\"Percent of Total # of TFs sorted by Change in Activity\")\n",
    "plt.ylabel(\"Percent of TFs with known interactions\")\n",
    "\n",
    "\n"
   ]
  },
  {
   "cell_type": "code",
   "execution_count": 6,
   "metadata": {},
   "outputs": [
    {
     "name": "stdout",
     "output_type": "stream",
     "text": [
      "(1.9714285714285713, 0.43316289262235219)\n",
      "(3.0, 0.43803559657218194)\n",
      "(3.0, 0.45410783055198978)\n",
      "(1.9714285714285713, 0.46238130021913815)\n",
      "(3.0, 0.41302952503209239)\n",
      "(0.4285714285714286, 0.43311403508771934)\n",
      "(3.0, 0.41199736321687547)\n",
      "(3.0, 0.4451219512195122)\n",
      "(3.0, 0.43777360850531583)\n",
      "(3.0, 0.46181001283697048)\n",
      "44\n",
      "(0.017695007355142324, 0.33295741088417541)\n",
      "(0.43525498891352554, 0.897)\n"
     ]
    },
    {
     "data": {
      "text/plain": [
       "<matplotlib.text.Text at 0x1e9666d8>"
      ]
     },
     "execution_count": 6,
     "metadata": {},
     "output_type": "execute_result"
    },
    {
     "data": {
      "image/png": "[encoded data removed]",
      "text/plain": [
       "<matplotlib.figure.Figure at 0xb42f6a0>"
      ]
     },
     "metadata": {
      "needs_background": "light"
     },
     "output_type": "display_data"
    },
    {
     "data": {
      "image/png": "[encoded data removed]",
      "text/plain": [
       "<matplotlib.figure.Figure at 0x1f34bc88>"
      ]
     },
     "metadata": {
      "needs_background": "light"
     },
     "output_type": "display_data"
    }
   ],
   "source": [
    "\n",
    "tfvaRangeMatrix = [[TFVARange[row][col] for col in columnsOfInterest]+[TFVARange[row][-1]] for row in\n",
    "                   range(len(TFVARange)-1)]\n",
    "\n",
    "TFARangeSize = [[(max(col1)-min(col1))/col2 for col1,col2 in zip(row1,row2)] for row1,row2 in zip(TFVARange,TFAVariable)]\n",
    "interactions2 = [inter for inter in interactions]\n",
    "meanCutoff = 0\n",
    "\n",
    "for x in range(10):\n",
    "    bestCutoff = 0.2\n",
    "    bestAUC = 0.0\n",
    "    bestStdCutoff = 0\n",
    "    #plt.figure()\n",
    "    random.shuffle(interactions2)\n",
    "    tempinteractions = interactions2[:int(.7*len(interactions2))]\n",
    "\n",
    "    for cutoff in np.linspace(.2,3,50):\n",
    "        try:\n",
    "            matrix2 = [[col for col in matrix[row]] for row in range(len(matrix)-1)\n",
    "                            if np.mean(TFARangeSize[row]) <= cutoff]\n",
    "            tempTFs = [TFs[row] for row in range(len(matrix)-1) if np.mean(TFARangeSize[row]) <= cutoff]\n",
    "            normalizedMatrix  = TFAHelp.rankingChange(matrix2)[:-1]\n",
    "\n",
    "            interactionsFound = {}\n",
    "            for tf in range(len(normalizedMatrix)-1):\n",
    "                for kinase in range(len(normalizedMatrix[tf])):\n",
    "                    if kinases[kinase]+\"_\"+tempTFs[tf] in tempinteractions:\n",
    "                        interactionsFound[kinases[kinase]+\"_\"+TFs[tf]] = normalizedMatrix[tf][kinase]\n",
    "\n",
    "            xcoords,ycoords = TFAHelp.expectedInteractionFallInRankingLevel(interactionsFound,len(normalizedMatrix)-1)\n",
    "            AUC = np.trapz(ycoords,dx = 1.0/(len(xcoords)-1))\n",
    "            #if len(matrix2) >= .4 * len(matrix): plt.scatter([cutoff],[AUC])\n",
    "            if AUC >= bestAUC and len(matrix2) >= .4 * len(matrix):\n",
    "                bestAUC = AUC\n",
    "                bestCutoff = cutoff\n",
    "        except:\n",
    "            pass\n",
    "\n",
    "    print(bestCutoff,bestAUC)\n",
    "    meanCutoff += bestCutoff/10\n",
    "bestCutoff = meanCutoff\n",
    "matrix2 = [[col for col in matrix[row]] for row in range(len(matrix)-1)\n",
    "                if np.mean(TFARangeSize[row]) <= bestCutoff ]\n",
    "tempTFs = [TFs[row] for row in range(len(matrix)-1)]\n",
    "#matrix2 = [[col for col in matrix[row]] for row in range(len(matrix)-1)\n",
    "#                    if np.mean(TFARangeSize[row]) <= bestCutoff]\n",
    "\n",
    "\n",
    "print(len(matrix2))\n",
    "normalizedMatrix  = TFAHelp.rankingChange(matrix2)[:-1]\n",
    "\n",
    "#match interactions\n",
    "interactionsFound = {}\n",
    "for tf in range(len(normalizedMatrix)-1):\n",
    "    for kinase in range(len(normalizedMatrix[tf])):\n",
    "        if kinases[kinase]+\"_\"+tempTFs[tf] in interactions:\n",
    "            interactionsFound[kinases[kinase]+\"_\"+TFs[tf]] = normalizedMatrix[tf][kinase]\n",
    "uniqueInteractions = [inter for inter in interactions]\n",
    "\n",
    "GEImpact = {inter:-1 for inter in uniqueInteractions}\n",
    "xvals = []\n",
    "yvals = []\n",
    "for inter in interactionsFound:\n",
    "\tkinase = inter.split(\"_\")[0]\n",
    "\tkianseStdScore = np.abs(geneExpression[kinase][\"ratio\"][kinase])\n",
    "\tGEImpact[inter] = kianseStdScore\n",
    "\txvals.append(abs(kianseStdScore))\n",
    "\tyvals.append(abs(interactionsFound[inter]))\n",
    "\n",
    "plt.figure()\n",
    "plt.scatter([abs(GEImpact[inter]) for inter in interactionsFound],[abs(interactionsFound[inter]) for inter in interactionsFound])\n",
    "plt.xlabel(\"Absolute Value of Log2 Fold Change of Kinase/Phosphotase Expression\")\n",
    "plt.ylabel(\"Ranking of TFA Log2FC Relative to WT Within Condition\")\n",
    "\n",
    "positions = range(len(xvals))\n",
    "positions.sort(key=lambda x: xvals[x])\n",
    "xvals = [xvals[x] for x in positions]\n",
    "yvals = [yvals[x] for x in positions]\n",
    "slope,intercept,r,pvalue,_ = stats.linregress(xvals, yvals)\n",
    "plt.plot(xvals,[x*slope+intercept for x in xvals],\"r-\")\n",
    "print(r**2,pvalue)\n",
    "\n",
    "###Generate Random Matrices to find Results:\n",
    "plt.figure()\n",
    "\n",
    "xcoords,ycoords = TFAHelp.expectedInteractionFallInRankingLevel(interactionsFound,len(normalizedMatrix)-1)\n",
    "AUC = np.trapz(ycoords,dx = 1.0/(len(xcoords)-1))\n",
    "\n",
    "plt.scatter(xcoords,ycoords,c=\"b\")\n",
    "\n",
    "\n",
    "nsims = 1000\n",
    "allxCoords = []\n",
    "allyCoords = []\n",
    "AUCs = []\n",
    "for _ in range(nsims):\n",
    "    tempMat = TFAHelp.generateRandomMatrix([row[:-1] for row in matrix2])\n",
    "    tempMat = [tempMat[row] + [matrix2[row][-1]] for row in range(len(tempMat))]\n",
    "    tempNormMat = TFAHelp.rankingChange(tempMat)\n",
    "    tempinteractionsFound = {}\n",
    "    for tf in range(len(normalizedMatrix)-1):\n",
    "        for kinase in range(len(normalizedMatrix[tf])):\n",
    "            if kinases[kinase]+\"_\"+TFs[tf] in interactions:\n",
    "                tempinteractionsFound[kinases[kinase]+\"_\"+tempTFs[tf]] = tempNormMat[tf][kinase]\n",
    "    xcoords,ycoords = TFAHelp.expectedInteractionFallInRankingLevel(tempinteractionsFound,len(normalizedMatrix)-1)\n",
    "    AUCs.append(np.trapz(ycoords,dx = 1.0/(len(xcoords)-1)))\n",
    "    allxCoords.append(xcoords)\n",
    "    allyCoords.append(ycoords)\n",
    "\n",
    "AUCs.sort(reverse=True)\n",
    "index = 0\n",
    "for val in AUCs:\n",
    "    if AUC > val:\n",
    "        index -= 1\n",
    "        break\n",
    "    index+=1\n",
    "percentile = float(index)/len(AUCs)\n",
    "\n",
    "print(AUC,percentile)\n",
    "    \n",
    "plt.errorbar(x = xcoords,y = np.mean(allyCoords,axis = 0),\n",
    "             yerr = np.std(allyCoords,axis=0))\n",
    "    \n",
    "plt.xlabel(\"Percent of Total # of TFs sorted by Change in Activity\")\n",
    "plt.ylabel(\"Percent of TFs with known interactions\")\n",
    "\n",
    "\n"
   ]
  },
  {
   "cell_type": "code",
   "execution_count": 8,
   "metadata": {},
   "outputs": [
    {
     "name": "stderr",
     "output_type": "stream",
     "text": [
      "TFHelp.py:402: RuntimeWarning: divide by zero encountered in double_scalars\n",
      "  return min([abs(np.log2(max(A)/max(B))),abs(np.log2(min(A)/min(B)))])\n",
      "TFHelp.py:402: RuntimeWarning: invalid value encountered in double_scalars\n",
      "  return min([abs(np.log2(max(A)/max(B))),abs(np.log2(min(A)/min(B)))])\n",
      "TFHelp.py:402: RuntimeWarning: divide by zero encountered in log2\n",
      "  return min([abs(np.log2(max(A)/max(B))),abs(np.log2(min(A)/min(B)))])\n"
     ]
    },
    {
     "name": "stdout",
     "output_type": "stream",
     "text": [
      "0.121660729345\n",
      "(0.44000471475719, 0.947)\n"
     ]
    },
    {
     "data": {
      "text/plain": [
       "<matplotlib.text.Text at 0x3a2fe828>"
      ]
     },
     "execution_count": 8,
     "metadata": {},
     "output_type": "execute_result"
    },
    {
     "data": {
      "image/png": "[encoded data removed]",
      "text/plain": [
       "<matplotlib.figure.Figure at 0xb2ad0b8>"
      ]
     },
     "metadata": {
      "needs_background": "light"
     },
     "output_type": "display_data"
    },
    {
     "data": {
      "image/png": "[encoded data removed]",
      "text/plain": [
       "<matplotlib.figure.Figure at 0x1ffbf6d8>"
      ]
     },
     "metadata": {
      "needs_background": "light"
     },
     "output_type": "display_data"
    }
   ],
   "source": [
    "\n",
    "matrix = copy.deepcopy(TFVARange)\n",
    "wt = [matrix[row][-1] for row in range(len(matrix))] \n",
    "matrix = [[matrix[row][col] for col in columnsOfInterest]+[wt[row]] for row in range(len(matrix)-1)]\n",
    "\n",
    "\n",
    "TFAHelp = TFAHelper(TFAHelp.distFromWTRange(TFVARange[:-1]))\n",
    "allScores = TFAHelp.flatten(TFAHelp.TFAWholeMatrix)\n",
    "allScores.sort(reverse=True)\n",
    "print(allScores[int(len(allScores)*.05)])\n",
    "\n",
    "normalizedMatrixRaw = TFAHelp.distFromWTRange(matrix)\n",
    "\n",
    "normalizedMatrix  = TFAHelp.rankingChangeV(matrix)\n",
    "\n",
    "#match interactions\n",
    "interactionsFound = {x[0]:-1 for x in expectedResults}\n",
    "interactionsFoundRaw = {x[0]:-1 for x in expectedResults}\n",
    "for tf in range(len(normalizedMatrix)-1):\n",
    "    for kinase in range(len(normalizedMatrix[tf])):\n",
    "        if kinases[kinase]+\"_\"+TFs[tf] in interactions:\n",
    "            interactionsFound[kinases[kinase]+\"_\"+TFs[tf]] = normalizedMatrix[tf][kinase]\n",
    "            interactionsFoundRaw[kinases[kinase]+\"_\"+TFs[tf]] = normalizedMatrixRaw[tf][kinase]\n",
    "\n",
    "            \n",
    "uniqueInteractions = [inter for inter in interactions]\n",
    "\n",
    "GEImpact = {inter:-1 for inter in uniqueInteractions}\n",
    "xvals = []\n",
    "yvals = []\n",
    "# for inter in uniqueInteractions:\n",
    "# \tkinase = inter.split(\"_\")[0]\n",
    "# \t#kianseStdScore = np.abs(geneExpression[kinase][\"ratio\"][kinase])\n",
    "# \t#GEImpact[inter] = kianseStdScore\n",
    "# \t#xvals.append(abs(kianseStdScore))\n",
    "# \t#yvals.append(abs(interactionsFoundRaw[inter]))\n",
    "\n",
    "# plt.figure()\n",
    "# #plt.scatter([abs(GEImpact[inter]) for inter in interactionsFound],[abs(interactionsFoundRaw[inter]) for inter in interactionsFound])\n",
    "# #plt.xlabel(\"Absolute Value of Log2 Fold Change of Kinase/Phosphotase Expression\")\n",
    "# #plt.ylabel(\"Ranking of TFA Range Difference Relative to WT Within Condition\")\n",
    "\n",
    "# positions = range(len(xvals))\n",
    "# positions.sort(key=lambda x: xvals[x])\n",
    "# xvals = [xvals[x] for x in positions]\n",
    "# yvals = [yvals[x] for x in positions]\n",
    "# slope,intercept,r,pvalue,_ = stats.linregress(xvals, yvals)\n",
    "\n",
    "# plt.plot(xvals,[x*slope+intercept for x in xvals],\"r-\")\n",
    "# print(r**2,pvalue)\n",
    "\n",
    "plt.figure()\n",
    "\n",
    "plt.hist(allScores,bins = 20)\n",
    "\n",
    "\n",
    "\n",
    "\n",
    "###Generate Random Matrices to find Results:\n",
    "plt.figure()\n",
    "\n",
    "xcoords,ycoords = TFAHelp.expectedInteractionFallInRankingLevel(interactionsFound,len(normalizedMatrix)-1)\n",
    "AUC = np.trapz(ycoords,dx = 1.0/(len(xcoords)-1))\n",
    "\n",
    "plt.scatter(xcoords,ycoords,c=\"b\")\n",
    "\n",
    "\n",
    "nsims = 1000\n",
    "allxCoords = []\n",
    "allyCoords = []\n",
    "AUCs = []\n",
    "for _ in range(nsims):\n",
    "    tempMat = TFAHelp.generateRandomMatrix([row[:-1] for row in matrix])\n",
    "    tempMat = [tempMat[row] + [matrix[row][-1]] for row in range(len(tempMat))]\n",
    "    tempNormMat = TFAHelp.rankingChangeV(tempMat)\n",
    "    tempinteractionsFound = {x[0]:-1 for x in expectedResults}\n",
    "    for tf in range(len(normalizedMatrix)-1):\n",
    "        for kinase in range(len(normalizedMatrix[tf])):\n",
    "            if kinases[kinase]+\"_\"+TFs[tf] in interactions:\n",
    "                tempinteractionsFound[kinases[kinase]+\"_\"+TFs[tf]] = tempNormMat[tf][kinase]\n",
    "    xcoords,ycoords = TFAHelp.expectedInteractionFallInRankingLevel(tempinteractionsFound,len(normalizedMatrix)-1)\n",
    "    AUCs.append(np.trapz(ycoords,dx = 1.0/(len(xcoords)-1)))\n",
    "    allxCoords.append(xcoords)\n",
    "    allyCoords.append(ycoords)\n",
    "\n",
    "AUCs.sort(reverse=True)\n",
    "index = 0\n",
    "for val in AUCs:\n",
    "    if AUC > val:\n",
    "        index -= 1\n",
    "        break\n",
    "    index+=1\n",
    "percentile = float(index)/len(AUCs)\n",
    "\n",
    "print(AUC,percentile)\n",
    "    \n",
    "plt.errorbar(x = xcoords,y = np.mean(allyCoords,axis = 0),\n",
    "             yerr = np.std(allyCoords,axis=0))\n",
    "    \n",
    "plt.xlabel(\"Percent of Total # of TFs sorted by Change in Activity\")\n",
    "plt.ylabel(\"Percent of TFs with known interactions\")\n",
    "\n",
    "\n",
    "\n"
   ]
  },
  {
   "cell_type": "code",
   "execution_count": 12,
   "metadata": {},
   "outputs": [],
   "source": [
    "TFAHelp.writeMatrix2csv(normalizedMatrix,open(\"normalizedTFAMatrix.csv\",\"w\"))"
   ]
  },
  {
   "cell_type": "code",
   "execution_count": 11,
   "metadata": {},
   "outputs": [
    {
     "name": "stdout",
     "output_type": "stream",
     "text": [
      "(1.7938970987533074, 0.16341688457416392)\n"
     ]
    },
    {
     "data": {
      "image/png": "[encoded data removed]",
      "text/plain": [
       "<Figure size 432x288 with 1 Axes>"
      ]
     },
     "metadata": {
      "needs_background": "light"
     },
     "output_type": "display_data"
    }
   ],
   "source": [
    "#overall distribution and statistical test\n",
    "\n",
    "plt.figure()\n",
    "plt.hist(allInteractions, bins = 40)\n",
    "plt.xlabel(\"Score\")\n",
    "plt.ylabel(\"Frequency\")\n",
    "\n",
    "a = len(significantFoundInteractions)\n",
    "b = len(uniqueInteractions)-a\n",
    "c = int(alpha*len(allInteractions)) - a\n",
    "d = len(allInteractions) - a - b - c\n",
    "\n",
    "print(stats.fisher_exact([[a,b],[c,d]],alternative = \"greater\"))\n"
   ]
  },
  {
   "cell_type": "code",
   "execution_count": null,
   "metadata": {},
   "outputs": [],
   "source": []
  }
 ],
 "metadata": {
  "kernelspec": {
   "display_name": "Python 2",
   "language": "python",
   "name": "python2"
  },
  "language_info": {
   "codemirror_mode": {
    "name": "ipython",
    "version": 2
   },
   "file_extension": ".py",
   "mimetype": "text/x-python",
   "name": "python",
   "nbconvert_exporter": "python",
   "pygments_lexer": "ipython2",
   "version": "2.7.12"
  }
 },
 "nbformat": 4,
 "nbformat_minor": 2
}
